{
 "cells": [
  {
   "cell_type": "code",
   "execution_count": 10,
   "id": "5d7eb87c-76a3-4047-8c2d-ada3a156d401",
   "metadata": {},
   "outputs": [
    {
     "name": "stdin",
     "output_type": "stream",
     "text": [
      " 1 2 3 4\n"
     ]
    },
    {
     "name": "stdout",
     "output_type": "stream",
     "text": [
      "[1, 2, 3, 4]\n",
      "[2, 1, 4, 3]\n"
     ]
    }
   ],
   "source": [
    "# SWAP ALTERNATE\n",
    "\n",
    "\n",
    "def swapAlternate(arr):\n",
    "    n = len(arr)\n",
    "    if n % 2 == 1:\n",
    "        n = n - 1\n",
    "\n",
    "    for i in range(0, n, 2):\n",
    "        arr[i], arr[i+1] = arr[i+1], arr[i]\n",
    "\n",
    "    return arr\n",
    "        \n",
    "\n",
    "\n",
    "arr = list(map(int, input().split()))\n",
    "print(arr)\n",
    "print(swapAlternate(arr))"
   ]
  },
  {
   "cell_type": "code",
   "execution_count": null,
   "id": "7566264a-9bae-49c5-90d0-99cd404ea0a1",
   "metadata": {},
   "outputs": [],
   "source": []
  },
  {
   "cell_type": "code",
   "execution_count": 19,
   "id": "60c334ed-97a0-43dd-b921-19fb87c42d15",
   "metadata": {},
   "outputs": [
    {
     "name": "stdout",
     "output_type": "stream",
     "text": [
      "10\n"
     ]
    }
   ],
   "source": [
    "# You have been given an integer array/list(ARR) of size N. Where N is equal to [2M + 1].\n",
    "# Now, in the given array/list, 'M' numbers are present twice and one number is present only once.\n",
    "# You need to find and return that number which is unique in the array/list.\n",
    "#  Note:\n",
    "# Unique element is always present in the array/list according to the given condition.\n",
    "\n",
    "\n",
    "\n",
    "# def findUnique(arr, n):\n",
    "#     arr.sort()\n",
    "#     print(arr)\n",
    "#     if arr[n-1] != arr[n-2]:\n",
    "#         return arr[n-1]\n",
    "#     for i in range(0, n-1, 2):\n",
    "#         if arr[i] != arr[i+1]:\n",
    "#             return arr[i]\n",
    "\n",
    "#     return \"NONE FOUND\"\n",
    "\n",
    "\n",
    "def findUnique(arr, n):\n",
    "    \n",
    "    arr.sort()\n",
    "       \n",
    "    for i in range(0, n-1, 2):\n",
    "        if arr[i] != arr[i+1]:\n",
    "            return arr[i]\n",
    "\n",
    "    return arr[-1]\n",
    "    \n",
    "\n",
    "n = 9\n",
    "arr = [1,3,1,3,6,6,7,10,7]\n",
    "print(findUnique(arr, n))"
   ]
  },
  {
   "cell_type": "code",
   "execution_count": 13,
   "id": "4d6b28b9-289d-44d2-ba41-48dc3f0825bb",
   "metadata": {},
   "outputs": [
    {
     "name": "stdout",
     "output_type": "stream",
     "text": [
      "2\n"
     ]
    }
   ],
   "source": [
    "## Find duplicates\n",
    "# You are given an array of integers 'ARR' containing N elements. Each integer is in the range [1, N-1], with exactly one element repeated in the array.\n",
    "# Your task is to find the duplicate element. The duplicate element may be repeated more than twice in the error, but there will be exactly one element that is repeated in the array.\n",
    "# Note :\n",
    "# All the integers in the array appear only once except for precisely one integer which appears two or more times.\n",
    "\n",
    "\n",
    "def findDupelicate(arr):\n",
    "\n",
    "    arr.sort()\n",
    "    for i in range(len(arr)):\n",
    "        if arr[i] == arr[i+1]:\n",
    "            return arr[i]\n",
    "        \n",
    "        \n",
    "    \n",
    "n = 5\n",
    "arr = [0, 3, 2, 1, 2]\n",
    "print(findDupelicate(arr))"
   ]
  },
  {
   "cell_type": "code",
   "execution_count": null,
   "id": "5f0d55de-6004-411a-9c1d-f9502317129f",
   "metadata": {
    "jupyter": {
     "source_hidden": true
    }
   },
   "outputs": [],
   "source": []
  }
 ],
 "metadata": {
  "kernelspec": {
   "display_name": "Python 3 (ipykernel)",
   "language": "python",
   "name": "python3"
  },
  "language_info": {
   "codemirror_mode": {
    "name": "ipython",
    "version": 3
   },
   "file_extension": ".py",
   "mimetype": "text/x-python",
   "name": "python",
   "nbconvert_exporter": "python",
   "pygments_lexer": "ipython3",
   "version": "3.12.4"
  }
 },
 "nbformat": 4,
 "nbformat_minor": 5
}
