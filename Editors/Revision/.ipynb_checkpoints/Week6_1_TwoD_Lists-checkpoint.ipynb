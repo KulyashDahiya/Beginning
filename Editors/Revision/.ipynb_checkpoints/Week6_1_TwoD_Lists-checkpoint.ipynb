{
 "cells": [
  {
   "cell_type": "markdown",
   "id": "576cd0f4-e41b-4a95-a8e6-f2aaa22caa4d",
   "metadata": {},
   "source": [
    "Given a 2D integer array of size M*N, find and print the sum of ith row elements separated by space.\n",
    "Input Format :\n",
    "\n",
    "Line 1 : Two integers M and N (separated by space) \n",
    "Line 2 : Matrix elements of each row (separated by space)\n",
    "\n",
    "Output Format :\n",
    "\n",
    "Sum of every ith row elements (separated by space)\n",
    "\n",
    "Constraints :\n",
    "1 <= M, N <= 10^3\n",
    "Sample Input :\n",
    "\n",
    "4 2 \n",
    "1 2 3 4 5 6 7 8\n",
    "\n",
    "Sample Output :\n",
    "\n",
    "3 7 11 15"
   ]
  },
  {
   "cell_type": "markdown",
   "id": "7674fc60-62ae-4d8d-8b62-64919e686bb7",
   "metadata": {},
   "source": [
    "## Converting Flat List to 2D list\n",
    "Applying the list comprehension:\n",
    "For i = 0:\n",
    "flat_list[0 * 2: (0 + 1) * 2] → flat_list[0: 2] → [1, 2]\n",
    "For i = 1:\n",
    "flat_list[1 * 2: (1 + 1) * 2] → flat_list[2: 4] → [3, 4]\n",
    "For i = 2:\n",
    "flat_list[2 * 2: (2 + 1) * 2] → flat_list[4: 6] → [5, 6]\n",
    "For i = 3:\n",
    "flat_list[3 * 2: (3 + 1) * 2] → flat_list[6: 8] → [7, 8]"
   ]
  },
  {
   "cell_type": "code",
   "execution_count": 18,
   "id": "92970133-0694-433c-abb4-892634678b38",
   "metadata": {},
   "outputs": [
    {
     "name": "stdout",
     "output_type": "stream",
     "text": [
      "[[1, 2], [3, 4], [5, 6], [7, 8]]\n",
      "3 7 11 15\n"
     ]
    }
   ],
   "source": [
    "def flat_list_to_2d_list(m, n, elements):\n",
    "    if len(elements) != m * n:\n",
    "        raise ValueError(\"The flat list does not match the specified dimensions\")\n",
    "\n",
    "    matrix = [elements[i*n:(i+1)*n] for i in range(m)]\n",
    "    return matrix\n",
    "    \n",
    "\n",
    "\n",
    "\n",
    "if __name__ == \"__main__\":\n",
    "    m, n = 4, 2\n",
    "    elements = [1, 2, 3, 4, 5, 6, 7, 8]\n",
    "    # m, n = map(int, input().split())\n",
    "    # elements = list(map(int, input().split()))\n",
    "    td_list = flat_list_to_2d_list(m, n, elements)\n",
    "    print(td_list)\n",
    "\n",
    "    \n",
    "    print(' '.join(map(str, [sum(i) for i in td_list])))\n",
    "    "
   ]
  }
 ],
 "metadata": {
  "kernelspec": {
   "display_name": "Python 3 (ipykernel)",
   "language": "python",
   "name": "python3"
  },
  "language_info": {
   "codemirror_mode": {
    "name": "ipython",
    "version": 3
   },
   "file_extension": ".py",
   "mimetype": "text/x-python",
   "name": "python",
   "nbconvert_exporter": "python",
   "pygments_lexer": "ipython3",
   "version": "3.12.4"
  }
 },
 "nbformat": 4,
 "nbformat_minor": 5
}
