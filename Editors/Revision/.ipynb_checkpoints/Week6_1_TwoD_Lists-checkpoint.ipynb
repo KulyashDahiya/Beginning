{
 "cells": [
  {
   "cell_type": "markdown",
   "id": "576cd0f4-e41b-4a95-a8e6-f2aaa22caa4d",
   "metadata": {},
   "source": [
    "Given a 2D integer array of size M*N, find and print the sum of ith row elements separated by space.\n",
    "Input Format :\n",
    "\n",
    "Line 1 : Two integers M and N (separated by space) \n",
    "Line 2 : Matrix elements of each row (separated by space)\n",
    "\n",
    "Output Format :\n",
    "\n",
    "Sum of every ith row elements (separated by space)\n",
    "\n",
    "Constraints :\n",
    "1 <= M, N <= 10^3\n",
    "Sample Input :\n",
    "\n",
    "4 2 \n",
    "1 2 3 4 5 6 7 8\n",
    "\n",
    "Sample Output :\n",
    "\n",
    "3 7 11 15"
   ]
  },
  {
   "cell_type": "markdown",
   "id": "7674fc60-62ae-4d8d-8b62-64919e686bb7",
   "metadata": {},
   "source": [
    "## Converting Flat List to 2D list\n",
    "\n",
    "How It Works\n",
    "Row Calculation:\n",
    "For each value of i in range(M), the code creates a slice of flat_list that corresponds to the i-th row of the matrix.\n",
    "Row Slicing:\n",
    "Start Index: i * N\n",
    "This calculates where the i-th row begins in the flat list.\n",
    "End Index: (i + 1) * N\n",
    "This calculates where the i-th row ends. The end index is exclusive, meaning the slice includes elements from i * N up to but not including (i + 1) * N.\n",
    "Building the Matrix:\n",
    "Each slice represents a row of the matrix, and the list comprehension constructs a list of these rows.\n",
    "\n",
    "\n",
    "\n",
    "Applying the list comprehension:\n",
    "For i = 0:\n",
    "flat_list[0 * 2: (0 + 1) * 2] → flat_list[0: 2] → [1, 2]\n",
    "For i = 1:\n",
    "flat_list[1 * 2: (1 + 1) * 2] → flat_list[2: 4] → [3, 4]\n",
    "For i = 2:\n",
    "flat_list[2 * 2: (2 + 1) * 2] → flat_list[4: 6] → [5, 6]\n",
    "For i = 3:\n",
    "flat_list[3 * 2: (3 + 1) * 2] → flat_list[6: 8] → [7, 8]"
   ]
  },
  {
   "cell_type": "markdown",
   "id": "6f539553-ce4a-4bd9-a3a0-014cb8a955cf",
   "metadata": {},
   "source": [
    "Space Separated Input:\n",
    "For this we will require the user to specify the number of rows (say row ) and\n",
    "columns (say col ) of the 2D list. The user will then enter all the elements of the 2D\n",
    "list in a single line. We will first convert this input stream to a list (say inputL ). The\n",
    "next step would be using list comprehension to make a 2D list (say fnlList ) from\n",
    "this list. It can be observed that fnlList[i,j]=inputL[i*row+j] . The python code\n",
    "for this can be written as follows:\n",
    "row = int(input()) #Number of rows\n",
    "col = int(input()) #Number of columns\n",
    "inputL= input().split() #Converting input string to list\n",
    "fnlList=[[int(inputL[i*col+j]) for j in range(col)] for i in range(row)]\n",
    "print(fnlList)\n",
    "User Input:\n",
    "4\n",
    "5\n",
    "11 12 5 2 15 6 10 6 0 5 11 13 10 8 12 5 12 15 8 6\n",
    "Output:\n",
    "[[ 11 , 12 , 5 , 2 ],[ 15 , 6 , 10 , 6 ],[ 0 , 5 , 11 , 13 ],[ 10 , 8 , 12 , 5 ],[ 12 , 15 , 8 , 6 ]]"
   ]
  },
  {
   "cell_type": "code",
   "execution_count": null,
   "id": "e9a0364b-510b-4de0-ac43-e0a3977e89b5",
   "metadata": {},
   "outputs": [],
   "source": []
  },
  {
   "cell_type": "code",
   "execution_count": 18,
   "id": "92970133-0694-433c-abb4-892634678b38",
   "metadata": {},
   "outputs": [
    {
     "name": "stdout",
     "output_type": "stream",
     "text": [
      "[[1, 2], [3, 4], [5, 6], [7, 8]]\n",
      "3 7 11 15\n"
     ]
    }
   ],
   "source": [
    "# find and print the sum of every ith row elements separated by space.\n",
    "\n",
    "def flat_list_to_2d_list(m, n, elements):\n",
    "    if len(elements) != m * n:\n",
    "        raise ValueError(\"The flat list does not match the specified dimensions\")\n",
    "\n",
    "    matrix = [elements[i*n:(i+1)*n] for i in range(m)]\n",
    "    return matrix\n",
    "    \n",
    "\n",
    "\n",
    "\n",
    "if __name__ == \"__main__\":\n",
    "    m, n = 4, 2\n",
    "    elements = [1, 2, 3, 4, 5, 6, 7, 8]\n",
    "    # m, n = map(int, input().split())\n",
    "    # elements = list(map(int, input().split()))\n",
    "    td_list = flat_list_to_2d_list(m, n, elements)\n",
    "    print(td_list)\n",
    "\n",
    "    \n",
    "    print(' '.join(map(str, [sum(i) for i in td_list])))\n",
    "    "
   ]
  },
  {
   "cell_type": "code",
   "execution_count": null,
   "id": "b37c14e4-4a3b-4fbb-a77b-40ad3a986abf",
   "metadata": {},
   "outputs": [],
   "source": []
  },
  {
   "cell_type": "code",
   "execution_count": 19,
   "id": "15004691-f6f4-42a2-9437-1a04233832e5",
   "metadata": {},
   "outputs": [],
   "source": [
    "## Largest Column Sum in 2D Array\n",
    "\n",
    "arr = input().split()"
   ]
  },
  {
   "cell_type": "code",
   "execution_count": null,
   "id": "55269df2-1d49-402f-8572-c3cb709bdf4f",
   "metadata": {},
   "outputs": [],
   "source": []
  },
  {
   "cell_type": "code",
   "execution_count": null,
   "id": "eab7f6a6-293c-4ce0-a2a7-f907906ab040",
   "metadata": {},
   "outputs": [],
   "source": []
  },
  {
   "cell_type": "code",
   "execution_count": null,
   "id": "fbcbebf6-6e91-4359-b11d-bfa1fa0c8275",
   "metadata": {},
   "outputs": [],
   "source": []
  }
 ],
 "metadata": {
  "kernelspec": {
   "display_name": "Python 3 (ipykernel)",
   "language": "python",
   "name": "python3"
  },
  "language_info": {
   "codemirror_mode": {
    "name": "ipython",
    "version": 3
   },
   "file_extension": ".py",
   "mimetype": "text/x-python",
   "name": "python",
   "nbconvert_exporter": "python",
   "pygments_lexer": "ipython3",
   "version": "3.12.4"
  }
 },
 "nbformat": 4,
 "nbformat_minor": 5
}
