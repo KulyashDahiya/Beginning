{
 "cells": [
  {
   "cell_type": "code",
   "execution_count": 21,
   "id": "a2e95ac0-426d-4d42-9c40-bbee29f43cc0",
   "metadata": {},
   "outputs": [
    {
     "name": "stdout",
     "output_type": "stream",
     "text": [
      "1.87500\n"
     ]
    }
   ],
   "source": [
    "# Geometric Sum\n",
    "\n",
    "# Given k, find the geometric sum i.e.\n",
    "\n",
    "# 1 + 1/2 + 1/4 + 1/8 + ... + 1/(2^k)   \n",
    "\n",
    "# using recursion.\n",
    "    \n",
    "# Input format :\n",
    "# Integer k\n",
    "\n",
    "# Output format :\n",
    "# Geometric sum (upto 5 decimal places)\n",
    "\n",
    "# Constraints :\n",
    "# 0 <= k <= 1000\n",
    "\n",
    "# Sample Input 1 :\n",
    "# 3\n",
    "# Sample Output 1:\n",
    "# 1.87500\n",
    "# Sample Input 2:\n",
    "# 4\n",
    "# Sample Output 2:\n",
    "# 1.93750\n",
    "\n",
    "\n",
    "\n",
    "\n",
    "def geoSum(k, i):\n",
    "\n",
    "    if i == k+1:\n",
    "        return 0\n",
    "\n",
    "    return (1/2**i) + geoSum(k, i+1)\n",
    "    \n",
    "\n",
    "result = geoSum(3, 0)\n",
    "print(f\"{result:.5f}\")"
   ]
  },
  {
   "cell_type": "code",
   "execution_count": 25,
   "id": "2e19bc0a-1b64-499f-8e5f-9ab7f1f11c39",
   "metadata": {},
   "outputs": [
    {
     "data": {
      "text/plain": [
       "True"
      ]
     },
     "execution_count": 25,
     "metadata": {},
     "output_type": "execute_result"
    }
   ],
   "source": [
    "## Check Palindrome -- Recursive\n",
    "\n",
    "def checkPalindrome(s):\n",
    "    n = len(s)\n",
    "    if n == 0:\n",
    "        return True\n",
    "\n",
    "    if s[0] == s[n-1]:\n",
    "        return checkPalindrome(s[1:n-1])\n",
    "    else:\n",
    "        return False\n",
    "    \n",
    "\n",
    "s = \"ababa\"\n",
    "checkPalindrome(s)"
   ]
  },
  {
   "cell_type": "code",
   "execution_count": null,
   "id": "97be9365-f108-4365-a3ca-7849d55b91ed",
   "metadata": {},
   "outputs": [],
   "source": [
    "## Sum of Digits of an integer -- Recursive\n",
    "\n",
    "\n",
    "def sumDigits(x):\n",
    "    \n",
    "    if x//10 == 0:\n",
    "        return 0\n",
    "\n",
    "    \n",
    "    return sumDigits(x)\n",
    "\n",
    "\n",
    "    \n",
    "\n",
    "x = 1234\n",
    "print(sumDigits(x))"
   ]
  },
  {
   "cell_type": "code",
   "execution_count": 34,
   "id": "059631e1-9815-452a-a1ac-0621b519c41e",
   "metadata": {},
   "outputs": [
    {
     "data": {
      "text/plain": [
       "4"
      ]
     },
     "execution_count": 34,
     "metadata": {},
     "output_type": "execute_result"
    }
   ],
   "source": [
    "1234 % 10"
   ]
  }
 ],
 "metadata": {
  "kernelspec": {
   "display_name": "Python 3 (ipykernel)",
   "language": "python",
   "name": "python3"
  },
  "language_info": {
   "codemirror_mode": {
    "name": "ipython",
    "version": 3
   },
   "file_extension": ".py",
   "mimetype": "text/x-python",
   "name": "python",
   "nbconvert_exporter": "python",
   "pygments_lexer": "ipython3",
   "version": "3.12.4"
  }
 },
 "nbformat": 4,
 "nbformat_minor": 5
}
