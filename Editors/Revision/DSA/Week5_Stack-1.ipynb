{
 "cells": [
  {
   "cell_type": "markdown",
   "metadata": {},
   "source": [
    "#  Implement Stack With Linked List\n",
    "\n",
    "# https://www.geeksforgeeks.org/implement-a-stack-using-singly-linked-list/\n",
    "# https://www.naukri.com/code360/problems/implement-stack-with-linked-list_630475\n",
    "\n",
    "\n",
    "\n",
    "\n",
    "You must implement the Stack data structure using a Singly Linked List.\n",
    "Create a class named 'Stack' which supports the following operations(all in O(1) time):\n",
    "\n",
    "getSize: Returns an integer. Gets the current size of the stack\n",
    "isEmpty: Returns a boolean. Gets whether the stack is empty\n",
    "push: Returns nothing. Accepts an integer. Puts that integer at the top of the stack\n",
    "pop: Returns nothing. Removes the top element of the stack. It does nothing if the stack is empty.\n",
    "getTop: Returns an integer. Gets the top element of the stack. Returns -1 if the stack is empty"
   ]
  },
  {
   "cell_type": "code",
   "execution_count": null,
   "metadata": {},
   "outputs": [],
   "source": [
    "class Node:\n",
    "    def __init__(self, data, next_node=None):\n",
    "        self.data = data\n",
    "        self.next = next_node\n",
    "\n",
    "class Stack:\n",
    "    def __init__(self):\n",
    "        self.head = None\n",
    "        self.size = 0\n",
    "        \n",
    "    def getSize(self):\n",
    "        return self.size\n",
    "        \n",
    "    def isEmpty(self):\n",
    "        return self.head is None\n",
    "\n",
    "    def push(self, data):\n",
    "        new_Node = Node(data)\n",
    "        new_Node.next = self.head\n",
    "        self.head = new_Node\n",
    "        self.size += 1\n",
    "        \n",
    "    def pop(self):\n",
    "        if not head:\n",
    "            return None\n",
    "\n",
    "        head_data = self.head.data\n",
    "        top = self.head\n",
    "        self.head = self.head.next\n",
    "        del top\n",
    "        self.size -= 1\n",
    "        return head_data\n",
    "\n",
    "    def getTop(self):\n",
    "        if self.head is None:\n",
    "            return -1\n",
    "        return self.head.data"
   ]
  },
  {
   "cell_type": "code",
   "execution_count": 3,
   "metadata": {},
   "outputs": [
    {
     "data": {
      "text/plain": [
       "False"
      ]
     },
     "execution_count": 3,
     "metadata": {},
     "output_type": "execute_result"
    }
   ],
   "source": [
    "# 20 Valid Parentheses\n",
    "\n",
    "def isValid(s: str) -> bool:\n",
    "    stack = []\n",
    "    char_map = { \")\": \"(\", \"}\": \"{\", \"]\": \"[\"}\n",
    "\n",
    "    for char in s:\n",
    "        if char in char_map.values():\n",
    "            stack.append(char)\n",
    "        else:\n",
    "            if not stack or stack.pop() != char_map[char]:\n",
    "                return False\n",
    "            \n",
    "    return not stack\n",
    "\n",
    "\n",
    "s = \"()\"\n",
    "s = \"()[]{}\"\n",
    "s = \"(]\"\n",
    "isValid(s)"
   ]
  },
  {
   "cell_type": "code",
   "execution_count": null,
   "metadata": {},
   "outputs": [],
   "source": [
    "# Reverse Stack using 2 stacks\n",
    "\n",
    "def reverseStack(s1, s2):\n",
    "    # Move elements from s1 to s2\n",
    "    while len(s1) != 0:\n",
    "        ele = s1.pop()\n",
    "        s2.append(ele)\n",
    "\n",
    "    # Move elements back from s2 to s1 (this will reverse the stack)\n",
    "    while len(s2) != 0:\n",
    "        ele = s2.pop()\n",
    "        s1.append(ele)\n",
    "\n",
    "# Input stack s1\n",
    "s1 = [int(ele) for ele in input(\"Enter elements of the stack: \").split()]\n",
    "\n",
    "# Auxiliary stack s2 (empty)\n",
    "s2 = []\n",
    "\n",
    "# Reverse the stack using two stacks\n",
    "reverseStack(s1, s2)\n",
    "\n",
    "# Output the reversed stack\n",
    "print(\"Reversed stack:\", s1)\n"
   ]
  },
  {
   "cell_type": "code",
   "execution_count": null,
   "metadata": {},
   "outputs": [],
   "source": [
    "#Reverse a Stack Using recursion\n",
    "\n",
    "# https://www.naukri.com/code360/problems/reverse-stack-using-recursion_631875\n",
    "\n",
    "from typing import List\n",
    "\n",
    "def insert_at_bottom(stack, item):\n",
    "    if not stack:\n",
    "        stack.append(item)\n",
    "    else:\n",
    "        temp = stack.pop()\n",
    "        stack = insert_at_bottom(stack, item)\n",
    "        stack.append(temp)\n",
    "\n",
    "    return stack\n",
    "\n",
    "def reverseStack(stack: List[int]) -> None:\n",
    "    if not stack:\n",
    "        return\n",
    "\n",
    "    temp = stack.pop()\n",
    "\n",
    "    reverseStack(stack)\n",
    "\n",
    "    stack = insert_at_bottom(stack, temp)"
   ]
  },
  {
   "cell_type": "code",
   "execution_count": null,
   "metadata": {},
   "outputs": [],
   "source": [
    "# Redundant Brackets\n",
    "\n",
    "# https://www.naukri.com/code360/problems/redundant-brackets_975473"
   ]
  }
 ],
 "metadata": {
  "kernelspec": {
   "display_name": ".venv",
   "language": "python",
   "name": "python3"
  },
  "language_info": {
   "codemirror_mode": {
    "name": "ipython",
    "version": 3
   },
   "file_extension": ".py",
   "mimetype": "text/x-python",
   "name": "python",
   "nbconvert_exporter": "python",
   "pygments_lexer": "ipython3",
   "version": "3.12.5"
  }
 },
 "nbformat": 4,
 "nbformat_minor": 2
}
