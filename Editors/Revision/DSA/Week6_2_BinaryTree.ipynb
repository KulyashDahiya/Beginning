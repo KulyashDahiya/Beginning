{
 "cells": [
  {
   "cell_type": "code",
   "execution_count": 1,
   "metadata": {},
   "outputs": [],
   "source": [
    "import math\n",
    "from typing import List, Optional\n",
    "from collections import deque\n",
    "\n",
    "class TreeNode:\n",
    "    def __init__(self, x):\n",
    "        self.val = x\n",
    "        self.left = None\n",
    "        self.right = None\n",
    "\n",
    "def printTreeStructure(root):\n",
    "    if root is None:\n",
    "        return\n",
    "    \n",
    "    print(root.val, end=':')\n",
    "    if root.left:\n",
    "        print(\"L \", root.left.val, end=', ')\n",
    "    if root.right:\n",
    "        print(\"R \", root.right.val, end='\\n')\n",
    "    printTreeStructure(root.left)\n",
    "    print()\n",
    "    printTreeStructure(root.right)\n",
    "\n",
    "\n",
    "# Input of Tree from User\n",
    "def CreateTreeLevelOrder(input_data: List[int]) -> Optional['TreeNode']:\n",
    "    if not input_data:\n",
    "        return None\n",
    "    \n",
    "    root = TreeNode(input_data[0])\n",
    "    queue = deque()\n",
    "    queue.append(root)\n",
    "\n",
    "    i = 1\n",
    "    while i < len(input_data):\n",
    "        node = queue.popleft()\n",
    "\n",
    "        if i < len(input_data) and input_data[i] != None:\n",
    "            node.left = TreeNode(input_data[i])\n",
    "            queue.append(node.left)\n",
    "        \n",
    "        i += 1\n",
    "\n",
    "        if  i < len(input_data) and input_data[i] != None:\n",
    "            node.right = TreeNode(input_data[i])\n",
    "            queue.append(node.right)\n",
    "\n",
    "        i += 1\n",
    "\n",
    "    return root\n",
    "\n",
    "def levelOrder_array(root):\n",
    "\n",
    "    if not root:\n",
    "        return []\n",
    "    \n",
    "    queue = deque([root])\n",
    "    ans = []\n",
    "\n",
    "    while queue:\n",
    "        level_size = len(queue)\n",
    "        level = []\n",
    "\n",
    "        for i in range(level_size):\n",
    "            node = queue.popleft()\n",
    "\n",
    "            if node.left:\n",
    "                queue.append(node.left)\n",
    "            if node.right:\n",
    "                queue.append(node.right)\n",
    "            \n",
    "            level.append(node.val)\n",
    "\n",
    "        ans.append(level)\n",
    "\n",
    "    return ans\n",
    "\n",
    "def inOrderPrint(root):\n",
    "    if root is None:\n",
    "        return\n",
    "\n",
    "    inOrderPrint(root.left)\n",
    "    print(root.val, end=' ')\n",
    "    inOrderPrint(root.right)\n",
    "\n",
    "def printTreeVisualWithLines(root: Optional['TreeNode']):\n",
    "    # Get the height of the tree to determine the width of the printed structure\n",
    "    def getHeight(node):\n",
    "        if not node:\n",
    "            return 0\n",
    "        return 1 + max(getHeight(node.left), getHeight(node.right))\n",
    "    \n",
    "    height = getHeight(root)\n",
    "    width = (2 ** height) - 1  # Full width of the tree at the bottom level\n",
    "\n",
    "    # Initialize a 2D list to hold the tree structure (including lines)\n",
    "    res = [[\" \" for _ in range(width)] for _ in range(2 * height - 1)]\n",
    "\n",
    "    # Helper function to fill the 2D list\n",
    "    def fillTreeWithLines(node, level, left, right):\n",
    "        if not node:\n",
    "            return\n",
    "        mid = (left + right) // 2\n",
    "        res[2 * level][mid] = str(node.val)\n",
    "\n",
    "        if node.left:\n",
    "            left_mid = (left + mid) // 2\n",
    "            res[2 * level + 1][left_mid] = \"/\"\n",
    "            fillTreeWithLines(node.left, level + 1, left, mid - 1)\n",
    "        \n",
    "        if node.right:\n",
    "            right_mid = (mid + right) // 2\n",
    "            res[2 * level + 1][right_mid] = \"\\\\\"\n",
    "            fillTreeWithLines(node.right, level + 1, mid + 1, right)\n",
    "\n",
    "    # Fill the 2D list with tree nodes and lines\n",
    "    fillTreeWithLines(root, 0, 0, width - 1)\n",
    "\n",
    "    # Print the tree structure row by row\n",
    "    for row in res:\n",
    "        print(\"\".join(row))"
   ]
  },
  {
   "cell_type": "code",
   "execution_count": 2,
   "metadata": {},
   "outputs": [
    {
     "name": "stdout",
     "output_type": "stream",
     "text": [
      "                               1                               \n",
      "               /                              \\                \n",
      "               2                               3               \n",
      "       /              \\                               \\        \n",
      "       4               5                               7       \n",
      "   /      \\        /                                           \n",
      "   8       9       10                                           \n",
      "    \\            /                                             \n",
      "     11           12                                             \n",
      "                /                                              \n",
      "                13                                              \n"
     ]
    }
   ],
   "source": [
    "values = [\n",
    "    1, 2, 3, \n",
    "    4, 5, None, 7, \n",
    "    8, 9, 10, None, None, None, None, \n",
    "    11, None, None, 12, None, None, None, 13\n",
    "]\n",
    "root = CreateTreeLevelOrder(input_data=values)\n",
    "printTreeVisualWithLines(root)"
   ]
  },
  {
   "cell_type": "code",
   "execution_count": 3,
   "metadata": {},
   "outputs": [
    {
     "name": "stdout",
     "output_type": "stream",
     "text": [
      "               1               \n",
      "       /              \\        \n",
      "       2               3       \n",
      "   /      \\                    \n",
      "   4       5                   \n",
      " /       /                     \n",
      " 8       10                     \n",
      "        /                      \n",
      "        12                      \n"
     ]
    }
   ],
   "source": [
    "# RemoveLeaves\n",
    "\n",
    "def removeLeaves(root):\n",
    "    if root is None:\n",
    "        return None\n",
    "    \n",
    "    if not root.left and not root.right:\n",
    "        return None\n",
    "\n",
    "    root.left = removeLeaves(root.left)\n",
    "    root.right = removeLeaves(root.right)\n",
    "\n",
    "    return root\n",
    "\n",
    "\n",
    "removeLeaves(root)\n",
    "printTreeVisualWithLines(root)"
   ]
  },
  {
   "cell_type": "code",
   "execution_count": 5,
   "metadata": {},
   "outputs": [
    {
     "name": "stdout",
     "output_type": "stream",
     "text": [
      "   1   \n",
      " /  \\  \n",
      " 2   3 \n",
      "/\\  /\\ \n",
      "4 5 6 7\n"
     ]
    }
   ],
   "source": [
    "values = [\n",
    "    1, 2, 3, \n",
    "    4, 5, 6, 7\n",
    "]\n",
    "root = CreateTreeLevelOrder(input_data=values)\n",
    "printTreeVisualWithLines(root)"
   ]
  },
  {
   "cell_type": "code",
   "execution_count": 6,
   "metadata": {},
   "outputs": [
    {
     "name": "stdout",
     "output_type": "stream",
     "text": [
      "   1   \n",
      " /  \\  \n",
      " 3   2 \n",
      "/\\  /\\ \n",
      "7 6 5 4\n"
     ]
    }
   ],
   "source": [
    "# Mirror Binary Tree\n",
    "\n",
    "def mirrorTree(root):\n",
    "    if root is None:\n",
    "        return\n",
    "\n",
    "    root.left, root.right = root.right, root.left\n",
    "\n",
    "    mirrorTree(root.left)\n",
    "    mirrorTree(root.right)\n",
    "\n",
    "\n",
    "mirrorTree(root)\n",
    "printTreeVisualWithLines(root)"
   ]
  },
  {
   "cell_type": "code",
   "execution_count": null,
   "metadata": {},
   "outputs": [],
   "source": [
    "# Check if the tree is balanced\n",
    "\n"
   ]
  }
 ],
 "metadata": {
  "kernelspec": {
   "display_name": ".venv",
   "language": "python",
   "name": "python3"
  },
  "language_info": {
   "codemirror_mode": {
    "name": "ipython",
    "version": 3
   },
   "file_extension": ".py",
   "mimetype": "text/x-python",
   "name": "python",
   "nbconvert_exporter": "python",
   "pygments_lexer": "ipython3",
   "version": "3.12.5"
  }
 },
 "nbformat": 4,
 "nbformat_minor": 2
}
