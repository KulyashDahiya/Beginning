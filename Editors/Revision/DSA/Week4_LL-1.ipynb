{
 "cells": [
  {
   "cell_type": "code",
   "execution_count": 4,
   "metadata": {},
   "outputs": [
    {
     "name": "stdout",
     "output_type": "stream",
     "text": [
      "13\n",
      "15\n",
      "15\n"
     ]
    }
   ],
   "source": [
    "class Node:\n",
    "    def __init__(self, data):\n",
    "        self.data = data\n",
    "        self.next = None\n",
    "\n",
    "\n",
    "a = Node(13)\n",
    "b = Node(15)\n",
    "\n",
    "a.next = b\n",
    "\n",
    "print(a.data)\n",
    "print(b.data)\n",
    "print(a.next.data)"
   ]
  },
  {
   "cell_type": "code",
   "execution_count": 66,
   "metadata": {},
   "outputs": [
    {
     "name": "stdout",
     "output_type": "stream",
     "text": [
      "1 -> 2 -> 3 -> 4 -> 5 -> None\n"
     ]
    }
   ],
   "source": [
    "## Taking input from a LL and Printing\n",
    "\n",
    "\n",
    "def takeInput():\n",
    "\n",
    "    input = \"1 2 3 4 5 -1\"\n",
    "    inputList = [int(ele) for ele in input.split()]\n",
    "    head = None\n",
    "    for curr_data in inputList:\n",
    "        if curr_data == -1:\n",
    "            break\n",
    "\n",
    "        newNode = Node(curr_data)\n",
    "        if head is None:\n",
    "            head = newNode\n",
    "        else:\n",
    "            curr = head\n",
    "            while curr.next is not None:\n",
    "                curr = curr.next\n",
    "            curr.next = newNode\n",
    "        \n",
    "    return head\n",
    "\n",
    "def printLL(head):\n",
    "\n",
    "    curr = head\n",
    "    while curr is not None:\n",
    "        print(curr.data, end = ' -> ')\n",
    "        curr = curr.next\n",
    "    print(\"None\")\n",
    "\n",
    "    return\n",
    "\n",
    "\n",
    "\n",
    "head = takeInput()\n",
    "printLL(head)\n",
    "\n",
    "\n",
    "# 1 2 3 4 5 -1"
   ]
  },
  {
   "cell_type": "code",
   "execution_count": 68,
   "metadata": {},
   "outputs": [
    {
     "name": "stdout",
     "output_type": "stream",
     "text": [
      "1 -> 2 -> 3 -> 4 -> 5 -> 6 -> 7 -> None\n"
     ]
    }
   ],
   "source": [
    "## Taking Optimized Input for LL\n",
    "\n",
    "def takeInput_optimized():\n",
    "\n",
    "    input = \"1 2 3 4 5 6 7 -1\"\n",
    "    inputList = [int(ele) for ele in input.split()]\n",
    "    head = None\n",
    "    tail = None\n",
    "    for curr_data in inputList:\n",
    "        if curr_data == -1:\n",
    "            break\n",
    "\n",
    "        newNode = Node(curr_data)\n",
    "        if head is None:\n",
    "            head = newNode\n",
    "            tail = newNode\n",
    "        else:\n",
    "            tail.next = newNode\n",
    "            tail = newNode\n",
    "        \n",
    "    return head\n",
    "\n",
    "\n",
    "head = takeInput_optimized()\n",
    "printLL(head)"
   ]
  },
  {
   "cell_type": "code",
   "execution_count": 43,
   "metadata": {},
   "outputs": [
    {
     "name": "stdout",
     "output_type": "stream",
     "text": [
      "Position 8 is out of bounds, node not inserted.\n",
      "1 2 3 4 5 7 "
     ]
    }
   ],
   "source": [
    "## Inserting at i-th position in a LL\n",
    "\n",
    "def insertEl(head, data, pos):\n",
    "    if pos < 0:\n",
    "        return head\n",
    "    \n",
    "    newNode = Node(data)\n",
    "    if pos == 0:\n",
    "        newNode.next = head\n",
    "        return newNode\n",
    "\n",
    "\n",
    "    i = 0\n",
    "    curr = head\n",
    "\n",
    "    while curr is not None:\n",
    "        if i == pos-1:\n",
    "            newNode.next = curr.next\n",
    "            curr.next = newNode\n",
    "            return head\n",
    "        \n",
    "        curr = curr.next\n",
    "        i += 1\n",
    "\n",
    "\n",
    "    print(f\"Position {pos} is out of bounds, node not inserted.\")\n",
    "    return head\n",
    "\n",
    "\n",
    "head = takeInput_optimized()\n",
    "head1 = insertEl(head, 7, 8)\n",
    "printLL(head1)"
   ]
  },
  {
   "cell_type": "code",
   "execution_count": 48,
   "metadata": {},
   "outputs": [
    {
     "name": "stdout",
     "output_type": "stream",
     "text": [
      "1 2 3 7 4 5 "
     ]
    }
   ],
   "source": [
    "def insertAtI_recursive(head, data, pos):\n",
    "\n",
    "    if pos < 0:\n",
    "        return head\n",
    "    \n",
    "    if pos == 0:\n",
    "        newNode = Node(data)\n",
    "        newNode.next = head\n",
    "        return newNode\n",
    "\n",
    "    if head is not None:\n",
    "        head.next = insertAtI_recursive(head.next, data, pos - 1)\n",
    "    \n",
    "    return head\n",
    "\n",
    "head = takeInput_optimized()\n",
    "head2 = insertEl(head, 7, 3)\n",
    "printLL(head2)"
   ]
  },
  {
   "cell_type": "code",
   "execution_count": 49,
   "metadata": {},
   "outputs": [],
   "source": [
    "###  Questions\n",
    "\n",
    "\n",
    "# 1. Length of LL\n",
    "# 2. Delete a node\n",
    "# 3. Lenth of LL (Recursive)\n",
    "# 4. Delete a node (Recursive)"
   ]
  },
  {
   "cell_type": "code",
   "execution_count": 57,
   "metadata": {},
   "outputs": [
    {
     "name": "stdout",
     "output_type": "stream",
     "text": [
      "9\n"
     ]
    }
   ],
   "source": [
    "# 1. Length of LL\n",
    "\n",
    "def length_LL(head):\n",
    "    n = 0\n",
    "    while head is not None:\n",
    "        head = head.next\n",
    "        n += 1\n",
    "\n",
    "    return n\n",
    "\n",
    "\n",
    "\n",
    "head = takeInput_optimized()\n",
    "l = length_LL(head)\n",
    "print(l)"
   ]
  },
  {
   "cell_type": "code",
   "execution_count": 69,
   "metadata": {},
   "outputs": [
    {
     "name": "stdout",
     "output_type": "stream",
     "text": [
      "1 -> 2 -> 3 -> 5 -> 6 -> 7 -> None\n"
     ]
    }
   ],
   "source": [
    "# 2. Delete a node\n",
    "\n",
    "def delete_node(head, pos):\n",
    "\n",
    "    n = length_LL(head)\n",
    "    if pos < 0 or pos >= n:\n",
    "        return head\n",
    "    \n",
    "    if pos == 0:\n",
    "        head = head.next\n",
    "\n",
    "    i = 0\n",
    "    curr = head\n",
    "    prev = None\n",
    "\n",
    "    while curr is not None:\n",
    "        if i == pos:\n",
    "            prev.next = curr.next\n",
    "            return head\n",
    "        prev = curr\n",
    "        curr = curr.next\n",
    "        i += 1\n",
    "\n",
    "    return head\n",
    "\n",
    "head = takeInput_optimized()\n",
    "head = delete_node(head, 3)\n",
    "printLL(head)"
   ]
  },
  {
   "cell_type": "code",
   "execution_count": 72,
   "metadata": {},
   "outputs": [
    {
     "name": "stdout",
     "output_type": "stream",
     "text": [
      "7\n"
     ]
    }
   ],
   "source": [
    "# 3. Lenth of LL (Recursive)\n",
    "\n",
    "def length_LL_recursive(head):\n",
    "    \n",
    "    if head is None:\n",
    "        return 0\n",
    "\n",
    "    return 1 + length_LL_recursive(head.next)\n",
    "\n",
    "\n",
    "\n",
    "head = takeInput_optimized()\n",
    "l = length_LL_recursive(head)\n",
    "print(l)"
   ]
  },
  {
   "cell_type": "code",
   "execution_count": 73,
   "metadata": {},
   "outputs": [],
   "source": [
    "# 4. Delete a node (Recursive)"
   ]
  },
  {
   "cell_type": "code",
   "execution_count": null,
   "metadata": {},
   "outputs": [],
   "source": []
  },
  {
   "cell_type": "code",
   "execution_count": null,
   "metadata": {},
   "outputs": [],
   "source": [
    "## Assignments\n",
    "\n",
    "# Find a node in a LL\n",
    "# Append Last N to First\n",
    "# Eliminate Duplicates\n",
    "# Print Reversed Linked Lists\n",
    "# Palindrome Linked Lists"
   ]
  }
 ],
 "metadata": {
  "kernelspec": {
   "display_name": ".venv",
   "language": "python",
   "name": "python3"
  },
  "language_info": {
   "codemirror_mode": {
    "name": "ipython",
    "version": 3
   },
   "file_extension": ".py",
   "mimetype": "text/x-python",
   "name": "python",
   "nbconvert_exporter": "python",
   "pygments_lexer": "ipython3",
   "version": "3.12.4"
  }
 },
 "nbformat": 4,
 "nbformat_minor": 2
}
