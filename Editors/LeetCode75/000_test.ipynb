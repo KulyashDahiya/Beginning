{
 "cells": [
  {
   "cell_type": "code",
   "execution_count": 42,
   "metadata": {},
   "outputs": [
    {
     "name": "stdout",
     "output_type": "stream",
     "text": [
      "[0, 1, 8, 11, 17, 22]\n",
      "[27, 20, 17, 11, 6, 0]\n",
      "3 11 11\n"
     ]
    },
    {
     "data": {
      "text/plain": [
       "3"
      ]
     },
     "execution_count": 42,
     "metadata": {},
     "output_type": "execute_result"
    }
   ],
   "source": [
    "from collections import defaultdict\n",
    "from typing import List\n",
    "\n",
    "def pivotIndex(nums: List[int]) -> int:\n",
    "    n = len(nums)\n",
    "    left = [0] * n\n",
    "    right = [0] * n\n",
    "\n",
    "    i = 0\n",
    "    while i < n:\n",
    "        if i == 0:\n",
    "            curr_sum = 0\n",
    "        else:\n",
    "            curr_sum += nums[i-1]\n",
    "        left[i] = curr_sum\n",
    "        i += 1\n",
    "        \n",
    "    print(left)\n",
    "\n",
    "    i = n-1\n",
    "    while i >= 0:\n",
    "        if i == n-1:\n",
    "            curr_sum = 0\n",
    "        else:\n",
    "            curr_sum += nums[i+1]\n",
    "        right[i] = curr_sum\n",
    "        i -= 1\n",
    "\n",
    "    print(right)\n",
    "\n",
    "    for i in range(1, n-1):\n",
    "        if left[i] == right[i]:\n",
    "            print(i, left[i], right[i])\n",
    "            return i\n",
    "\n",
    "    return -1      \n",
    "\n",
    "\n",
    "\n",
    "\n",
    "\n",
    "    \n",
    "nums = [1,7,3,6,5,6] #3\n",
    "pivotIndex(nums)"
   ]
  },
  {
   "cell_type": "code",
   "execution_count": 48,
   "metadata": {},
   "outputs": [
    {
     "data": {
      "text/plain": [
       "[[1, 3], [4, 6]]"
      ]
     },
     "execution_count": 48,
     "metadata": {},
     "output_type": "execute_result"
    }
   ],
   "source": [
    "def findDifference(nums1: List[int], nums2: List[int]) -> List[List[int]]:\n",
    "\n",
    "    # l1 = []\n",
    "    # l2 = []\n",
    "\n",
    "    # for num in nums1:\n",
    "    #     if num not in nums2:\n",
    "    #         l1.append(num)\n",
    "    # for num in nums2:\n",
    "    #     if num not in nums1:\n",
    "    #         l2.append(num)\n",
    "\n",
    "    # return [list(set(l1)), list(set(l2))]\n",
    "\n",
    "\n",
    "    nums1 = set(nums1)\n",
    "    nums2 = set(nums2)\n",
    "    return [list(nums1-nums2), list(nums2-nums1)]\n",
    "\n",
    "\n",
    "nums1 = [1,2,3]\n",
    "nums2 = [2,4,6]\n",
    "findDifference(nums1, nums2)"
   ]
  },
  {
   "cell_type": "code",
   "execution_count": 56,
   "metadata": {},
   "outputs": [
    {
     "name": "stdout",
     "output_type": "stream",
     "text": [
      "{1: 3, 2: 3, 3: 1}\n"
     ]
    },
    {
     "data": {
      "text/plain": [
       "False"
      ]
     },
     "execution_count": 56,
     "metadata": {},
     "output_type": "execute_result"
    }
   ],
   "source": [
    "from collections import Counter\n",
    "def uniqueOccurrences(arr: List[int]) -> bool:\n",
    "\n",
    "    dic = dict(Counter(arr))\n",
    "    print(dic)\n",
    "    lis = []\n",
    "    for value in dic.values():\n",
    "        if value in lis:\n",
    "            return False\n",
    "        else:\n",
    "            lis.append(value)\n",
    "\n",
    "    return True\n",
    "\n",
    "\n",
    "arr = [1,2,2,1,1,2,3]\n",
    "uniqueOccurrences(arr)"
   ]
  },
  {
   "cell_type": "code",
   "execution_count": 57,
   "metadata": {},
   "outputs": [
    {
     "data": {
      "text/plain": [
       "True"
      ]
     },
     "execution_count": 57,
     "metadata": {},
     "output_type": "execute_result"
    }
   ],
   "source": [
    "def closeStrings(word1: str, word2: str) -> bool:\n",
    "    if set(word1) != set(word2):\n",
    "        return False\n",
    "\n",
    "    freq1 = Counter(word1)\n",
    "    freq2 = Counter(word2)\n",
    "\n",
    "    return sorted(freq1.values()) == sorted(freq2.values())\n",
    "\n",
    "\n",
    "\n",
    "word1 = \"abc\"\n",
    "word2 = \"bca\"\n",
    "closeStrings(word1, word2)"
   ]
  },
  {
   "cell_type": "code",
   "execution_count": 63,
   "metadata": {},
   "outputs": [
    {
     "name": "stdout",
     "output_type": "stream",
     "text": [
      "[[3, 1, 2, 2], [1, 4, 4, 4], [2, 4, 2, 2], [2, 5, 2, 2]]\n",
      "[[3, 1, 2, 2], [1, 4, 4, 5], [2, 4, 2, 2], [2, 4, 2, 2]]\n"
     ]
    },
    {
     "data": {
      "text/plain": [
       "3"
      ]
     },
     "execution_count": 63,
     "metadata": {},
     "output_type": "execute_result"
    }
   ],
   "source": [
    "def equalPairs(grid: List[List[int]]) -> int: #List[list]:\n",
    "    n = len(grid)\n",
    "    column_grid = []\n",
    "\n",
    "    j = 0\n",
    "    while j < n:\n",
    "        temp = []\n",
    "        i = 0\n",
    "        while i < n:\n",
    "            temp.append(grid[i][j])\n",
    "            i += 1\n",
    "        j += 1\n",
    "        column_grid.append(temp)\n",
    "\n",
    "    print(column_grid)\n",
    "    print(grid)\n",
    "    count = 0\n",
    "    for column in column_grid:\n",
    "        for row in grid:\n",
    "            if row == column:\n",
    "                count += 1\n",
    "\n",
    "    return count\n",
    "\n",
    "\n",
    "grid = [[3,2,1],[1,7,6],[2,7,7]]\n",
    "grid = [[3,1,2,2],[1,4,4,5],[2,4,2,2],[2,4,2,2]]\n",
    "equalPairs(grid)"
   ]
  },
  {
   "cell_type": "code",
   "execution_count": 77,
   "metadata": {},
   "outputs": [
    {
     "name": "stdout",
     "output_type": "stream",
     "text": [
      "lee*cod*e\n",
      "lecod*e\n",
      "lecoe\n"
     ]
    }
   ],
   "source": [
    "def removeStars(s: str) -> str:\n",
    "        # stack = list(s)\n",
    "        # print(stack)\n",
    "\n",
    "        # print(stack.index('*'))\n",
    "\n",
    "        # while '*' in stack:\n",
    "\n",
    "        #     s_index = stack.index('*')\n",
    "        #     stack = stack[:s_index-1] + stack[s_index+1:]\n",
    "        #     print(stack)\n",
    "\n",
    "        # while '*' in s:\n",
    "        #     s_index = s.index('*')\n",
    "        #     s = s[:s_index-1] + s[s_index+1:]\n",
    "        #     print(s)\n",
    "\n",
    "        stack = []\n",
    "\n",
    "        for char in s:\n",
    "            if char == '*':\n",
    "                if stack:\n",
    "                    stack.pop()\n",
    "\n",
    "            else:\n",
    "                stack.append(char)\n",
    "\n",
    "        return ''.join(stack)\n",
    "\n",
    "s = \"leet**cod*e\"\n",
    "removeStars(s)"
   ]
  },
  {
   "cell_type": "code",
   "execution_count": 88,
   "metadata": {},
   "outputs": [
    {
     "data": {
      "text/plain": [
       "[10]"
      ]
     },
     "execution_count": 88,
     "metadata": {},
     "output_type": "execute_result"
    }
   ],
   "source": [
    "def asteroidCollision(asteroids: List[int]) -> List[int]:\n",
    "    stack = []\n",
    "    for asteroid in asteroids:\n",
    "        while stack and asteroid < 0 < stack[-1]:\n",
    "            if stack[-1] < -asteroid:\n",
    "                stack.pop()\n",
    "            elif stack[-1] == -asteroid:\n",
    "                stack.pop()\n",
    "                break\n",
    "            else:\n",
    "                break\n",
    "        else:\n",
    "            stack.append(asteroid) # No collision, add the asteroid to the stack\n",
    "\n",
    "\n",
    "    return stack\n",
    "\n",
    "asteroids = [8,-8]\n",
    "asteroids = [10,2,-5]\n",
    "asteroidCollision(asteroids)\n"
   ]
  },
  {
   "cell_type": "code",
   "execution_count": 103,
   "metadata": {},
   "outputs": [
    {
     "name": "stdout",
     "output_type": "stream",
     "text": [
      "aaa\n",
      "aaabcbc\n"
     ]
    },
    {
     "data": {
      "text/plain": [
       "''"
      ]
     },
     "execution_count": 103,
     "metadata": {},
     "output_type": "execute_result"
    }
   ],
   "source": [
    "def decodeString(s: str) -> str:\n",
    "    # Stacks to store the numbers and previous strings\n",
    "    num_stack = []\n",
    "    str_stack = []\n",
    "    current_str = \"\"\n",
    "    current_num = 0\n",
    "    \n",
    "    for char in s:\n",
    "        if char.isdigit():\n",
    "            current_num = current_num * 10 + int(char)\n",
    "        elif char == '[':\n",
    "            continue\n",
    "        elif char == ']':\n",
    "            if str_stack:\n",
    "                prev_str = str_stack[-1]\n",
    "            else:\n",
    "                prev_str = \"\"\n",
    "            current_str = prev_str + (current_str * current_num)\n",
    "            str_stack.append(current_str)\n",
    "            print(current_str)\n",
    "            current_num = 0\n",
    "            current_str = \"\"\n",
    "        else:\n",
    "            current_str += char\n",
    "        \n",
    "\n",
    "\n",
    "    \n",
    "    return current_str\n",
    "\n",
    "\n",
    "\n",
    "s = \"3[a]2[bc]\" # Output: \"aaabcbc\"\n",
    "decodeString(s)"
   ]
  },
  {
   "cell_type": "code",
   "execution_count": 97,
   "metadata": {},
   "outputs": [],
   "source": [
    "class RecentCounter:\n",
    "\n",
    "    def __init__(self):\n",
    "        \n",
    "\n",
    "    def ping(self, t: int) -> int:\n",
    "\n",
    "\n",
    "\n",
    "\n",
    "\n",
    "\n",
    "\n",
    "def run_commands(commands, values):\n",
    "    recent_counter = None\n",
    "    results = []\n",
    "    \n",
    "    for command, value in zip(commands, values):\n",
    "        if command == \"RecentCounter\":\n",
    "            recent_counter = RecentCounter()\n",
    "            results.append(None)\n",
    "        elif command == \"ping\":\n",
    "            results.append(recent_counter.ping(value[0]))\n",
    "    \n",
    "    return results\n",
    "\n",
    "# Example usage\n",
    "commands = [\"RecentCounter\", \"ping\", \"ping\", \"ping\", \"ping\"]\n",
    "values = [[], [1], [100], [3001], [3002]]\n",
    "\n",
    "# Run the commands\n",
    "outputs = run_commands(commands, values)\n",
    "print(outputs)  # Expected output: [None, 1, 2, 3, 3]\n",
    "\n"
   ]
  }
 ],
 "metadata": {
  "kernelspec": {
   "display_name": "myenv",
   "language": "python",
   "name": "python3"
  },
  "language_info": {
   "codemirror_mode": {
    "name": "ipython",
    "version": 3
   },
   "file_extension": ".py",
   "mimetype": "text/x-python",
   "name": "python",
   "nbconvert_exporter": "python",
   "pygments_lexer": "ipython3",
   "version": "3.8.19"
  }
 },
 "nbformat": 4,
 "nbformat_minor": 2
}
