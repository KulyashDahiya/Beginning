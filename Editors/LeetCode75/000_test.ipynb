{
 "cells": [
  {
   "cell_type": "code",
   "execution_count": 13,
   "metadata": {},
   "outputs": [
    {
     "data": {
      "text/plain": [
       "5"
      ]
     },
     "execution_count": 13,
     "metadata": {},
     "output_type": "execute_result"
    }
   ],
   "source": [
    "from collections import defaultdict\n",
    "from typing import List\n",
    "\n",
    "def longestSubarray(nums: List[int]) -> int:\n",
    "    left = 0\n",
    "    max_length = 0\n",
    "    zero_count = 0\n",
    "    \n",
    "    for right in range(len(nums)):\n",
    "\n",
    "        if nums[right] == 0:\n",
    "            zero_count += 1\n",
    "\n",
    "        while zero_count > 1:\n",
    "            if nums[left] == 0:\n",
    "                zero_count -= 1\n",
    "            left += 1\n",
    "\n",
    "        length = right - left\n",
    "        max_length = max(max_length, length)\n",
    "\n",
    "    return max_length - 1 if max_length == len(nums) else max_length\n",
    "\n",
    "        \n",
    "\n",
    "    \n",
    "nums = [0,1,1,1,0,1,1,0,1] #5\n",
    "longestSubarray(nums)"
   ]
  }
 ],
 "metadata": {
  "kernelspec": {
   "display_name": "myenv",
   "language": "python",
   "name": "python3"
  },
  "language_info": {
   "codemirror_mode": {
    "name": "ipython",
    "version": 3
   },
   "file_extension": ".py",
   "mimetype": "text/x-python",
   "name": "python",
   "nbconvert_exporter": "python",
   "pygments_lexer": "ipython3",
   "version": "3.8.19"
  }
 },
 "nbformat": 4,
 "nbformat_minor": 2
}
