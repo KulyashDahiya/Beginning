{
 "cells": [
  {
   "cell_type": "code",
   "execution_count": null,
   "id": "46f8c9bd",
   "metadata": {
    "scrolled": true
   },
   "outputs": [
    {
     "name": "stdout",
     "output_type": "stream",
     "text": [
      "Collecting package metadata (current_repodata.json): done\n",
      "Solving environment: unsuccessful initial attempt using frozen solve. Retrying with flexible solve.\n",
      "Solving environment: unsuccessful attempt using repodata from current_repodata.json, retrying with next repodata source.\n",
      "Collecting package metadata (repodata.json): / "
     ]
    }
   ],
   "source": [
    "!conda install conda=24.1.2 -y\n",
    "!conda create --name whisperx python=3.10 -y\n",
    "\n",
    "!conda activate whisperx"
   ]
  },
  {
   "cell_type": "code",
   "execution_count": 2,
   "id": "25138324",
   "metadata": {},
   "outputs": [
    {
     "name": "stdout",
     "output_type": "stream",
     "text": [
      "Collecting package metadata (current_repodata.json): done\n",
      "Solving environment: done\n",
      "\n",
      "\n",
      "==> WARNING: A newer version of conda exists. <==\n",
      "  current version: 23.7.4\n",
      "  latest version: 24.1.2\n",
      "\n",
      "Please update conda by running\n",
      "\n",
      "    $ conda update -n base -c defaults conda\n",
      "\n",
      "Or to minimize the number of packages updated during conda update use\n",
      "\n",
      "     conda install conda=24.1.2\n",
      "\n",
      "\n",
      "\n",
      "## Package Plan ##\n",
      "\n",
      "  environment location: /Users/kulyashdahiya/anaconda3/envs/whisperx\n",
      "\n",
      "  added / updated specs:\n",
      "    - python=3.10\n",
      "\n",
      "\n",
      "The following NEW packages will be INSTALLED:\n",
      "\n",
      "  bzip2              pkgs/main/osx-arm64::bzip2-1.0.8-h80987f9_5 \n",
      "  ca-certificates    pkgs/main/osx-arm64::ca-certificates-2023.12.12-hca03da5_0 \n",
      "  libffi             pkgs/main/osx-arm64::libffi-3.4.4-hca03da5_0 \n",
      "  ncurses            pkgs/main/osx-arm64::ncurses-6.4-h313beb8_0 \n",
      "  openssl            pkgs/main/osx-arm64::openssl-3.0.13-h1a28f6b_0 \n",
      "  pip                pkgs/main/osx-arm64::pip-23.3.1-py310hca03da5_0 \n",
      "  python             pkgs/main/osx-arm64::python-3.10.13-hb885b13_0 \n",
      "  readline           pkgs/main/osx-arm64::readline-8.2-h1a28f6b_0 \n",
      "  setuptools         pkgs/main/osx-arm64::setuptools-68.2.2-py310hca03da5_0 \n",
      "  sqlite             pkgs/main/osx-arm64::sqlite-3.41.2-h80987f9_0 \n",
      "  tk                 pkgs/main/osx-arm64::tk-8.6.12-hb8d0fd4_0 \n",
      "  tzdata             pkgs/main/noarch::tzdata-2024a-h04d1e81_0 \n",
      "  wheel              pkgs/main/osx-arm64::wheel-0.41.2-py310hca03da5_0 \n",
      "  xz                 pkgs/main/osx-arm64::xz-5.4.6-h80987f9_0 \n",
      "  zlib               pkgs/main/osx-arm64::zlib-1.2.13-h5a0b063_0 \n",
      "\n",
      "\n",
      "\n",
      "Downloading and Extracting Packages\n",
      "\n",
      "Preparing transaction: done\n",
      "Verifying transaction: done\n",
      "Executing transaction: done\n",
      "#\n",
      "# To activate this environment, use\n",
      "#\n",
      "#     $ conda activate whisperx\n",
      "#\n",
      "# To deactivate an active environment, use\n",
      "#\n",
      "#     $ conda deactivate\n",
      "\n"
     ]
    }
   ],
   "source": [
    "!conda create --name whisperx python=3.10 -y"
   ]
  },
  {
   "cell_type": "code",
   "execution_count": 5,
   "id": "edd9a240",
   "metadata": {},
   "outputs": [
    {
     "name": "stdout",
     "output_type": "stream",
     "text": [
      "Collecting package metadata (current_repodata.json): done\n",
      "Solving environment: - \n",
      "The environment is inconsistent, please check the package plan carefully\n",
      "The following packages are causing the inconsistency:\n",
      "\n",
      "  - defaults/osx-arm64::jupyterlab_server==2.22.0=py311hca03da5_0\n",
      "  - defaults/osx-arm64::_anaconda_depends==2023.09=py311_openblas_1\n",
      "  - defaults/noarch::argon2-cffi==21.3.0=pyhd3eb1b0_0\n",
      "  - defaults/osx-arm64::notebook==6.5.4=py311hca03da5_1\n",
      "  - defaults/osx-arm64::twisted==22.10.0=py311h80987f9_0\n",
      "  - defaults/osx-arm64::jupyter_server_ydoc==0.8.0=py311hca03da5_1\n",
      "  - defaults/osx-arm64::jupyterlab==3.6.3=py311hca03da5_0\n",
      "  - defaults/osx-arm64::s3fs==2023.4.0=py311hca03da5_0\n",
      "  - defaults/osx-arm64::datasets==2.12.0=py311hca03da5_0\n",
      "  - defaults/osx-arm64::conda-index==0.3.0=py311hca03da5_0\n",
      "  - defaults/osx-arm64::huggingface_hub==0.15.1=py311hca03da5_0\n",
      "  - defaults/osx-arm64::anaconda-navigator==2.5.0=py311hca03da5_0\n",
      "  - defaults/osx-arm64::notebook-shim==0.2.2=py311hca03da5_0\n",
      "  - defaults/osx-arm64::transformers==4.32.1=py311hca03da5_0\n",
      "  - defaults/osx-arm64::jupyter_server==1.23.4=py311hca03da5_0\n",
      "  - defaults/osx-arm64::nbclassic==0.5.5=py311hca03da5_0\n",
      "  - defaults/osx-arm64::jupyter_server_fileid==0.9.0=py311hca03da5_0\n",
      "  - defaults/osx-arm64::hvplot==0.8.4=py311hca03da5_0\n",
      "  - defaults/osx-arm64::conda-build==3.26.1=py311hca03da5_0\n",
      "  - defaults/osx-arm64::aiobotocore==2.5.0=py311hca03da5_0\n",
      "  - defaults/osx-arm64::anaconda-cloud-auth==0.1.3=py311hca03da5_0\n",
      "  - defaults/osx-arm64::typing-extensions==4.7.1=py311hca03da5_0\n",
      "  - defaults/osx-arm64::conda-libmamba-solver==23.7.0=py311hca03da5_0\n",
      "  - defaults/osx-arm64::pydantic==1.10.8=py311h80987f9_0\n",
      "  - defaults/osx-arm64::scrapy==2.8.0=py311hca03da5_0\n",
      "  - defaults/osx-arm64::panel==1.2.3=py311hca03da5_0\n",
      "  - defaults/osx-arm64::holoviews==1.17.1=py311hca03da5_0\n",
      "  - defaults/noarch::aioitertools==0.7.1=pyhd3eb1b0_0\n",
      "  - defaults/osx-arm64::conda==23.7.4=py311hca03da5_0\n",
      "  - defaults/osx-arm64::navigator-updater==0.4.0=py311hca03da5_1\n",
      "  - defaults/noarch::conda-token==0.4.0=pyhd3eb1b0_0\n",
      "  - defaults/osx-arm64::jupyter==1.0.0=py311hca03da5_8\n",
      "unsuccessful initial attempt using frozen solve. Retrying with flexible solve.\n",
      "Solving environment: unsuccessful attempt using repodata from current_repodata.json, retrying with next repodata source.\n",
      "Collecting package metadata (repodata.json): done\n",
      "Solving environment: unsuccessful initial attempt using frozen solve. Retrying with flexible solve.\n",
      "Solving environment: - \n",
      "Found conflicts! Looking for incompatible packages.\n",
      "This can take several minutes.  Press CTRL-C to abort.\n",
      "                                                                               failed\n",
      "\n",
      "UnsatisfiableError: The following specifications were found\n",
      "to be incompatible with the existing python installation in your environment:\n",
      "\n",
      "Specifications:\n",
      "\n",
      "  - nb_conda -> python[version='>=3.8,<3.9.0a0|>=3.9,<3.10.0a0']\n",
      "\n",
      "Your python: python=3.11\n",
      "\n",
      "If python is on the left-most side of the chain, that's the version you've asked for.\n",
      "When python appears to the right, that indicates that the thing on the left is somehow\n",
      "not available for the python version you are constrained to. Note that conda will not\n",
      "change your python version to a different minor version unless you explicitly specify\n",
      "that.\n",
      "\n",
      "\n",
      "\n",
      "usage: conda [-h] [--no-plugins] [-V] COMMAND ...\n",
      "conda: error: argument COMMAND: invalid choice: 'activate' (choose from 'clean', 'compare', 'config', 'create', 'info', 'init', 'install', 'list', 'notices', 'package', 'remove', 'uninstall', 'rename', 'run', 'search', 'update', 'upgrade', 'build', 'content-trust', 'convert', 'debug', 'develop', 'doctor', 'index', 'inspect', 'metapackage', 'render', 'skeleton', 'token', 'server', 'pack', 'verify', 'env', 'repo')\n",
      "\n",
      "Note: you may need to restart the kernel to use updated packages.\n"
     ]
    }
   ],
   "source": [
    "!conda install nb_conda -y\n",
    "\n",
    "%conda activate whisperx"
   ]
  },
  {
   "cell_type": "code",
   "execution_count": 5,
   "id": "39d99144",
   "metadata": {
    "scrolled": false
   },
   "outputs": [
    {
     "name": "stdout",
     "output_type": "stream",
     "text": [
      "Looking in links: https://download.pytorch.org/whl/torch_stable.html\n",
      "Collecting torch==2.0.0\n",
      "  Obtaining dependency information for torch==2.0.0 from https://files.pythonhosted.org/packages/ee/a9/43610ad590dad7109c3890bf9ffffaea76dab590a0e2cf6d6e957fee4613/torch-2.0.0-cp311-none-macosx_11_0_arm64.whl.metadata\n",
      "  Downloading torch-2.0.0-cp311-none-macosx_11_0_arm64.whl.metadata (23 kB)\n",
      "Collecting torchaudio==2.0.0\n",
      "  Downloading https://download.pytorch.org/whl/cpu/torchaudio-2.0.0-cp311-cp311-macosx_11_0_arm64.whl (3.6 MB)\n",
      "\u001b[2K     \u001b[90m━━━━━━━━━━━━━━━━━━━━━━━━━━━━━━━━━━━━━━━━\u001b[0m \u001b[32m3.6/3.6 MB\u001b[0m \u001b[31m2.6 MB/s\u001b[0m eta \u001b[36m0:00:00\u001b[0m00:01\u001b[0m00:01\u001b[0m0m\n",
      "\u001b[?25hRequirement already satisfied: filelock in /Users/kulyashdahiya/anaconda3/lib/python3.11/site-packages (from torch==2.0.0) (3.9.0)\n",
      "Requirement already satisfied: typing-extensions in /Users/kulyashdahiya/anaconda3/lib/python3.11/site-packages (from torch==2.0.0) (4.10.0)\n",
      "Requirement already satisfied: sympy in /Users/kulyashdahiya/anaconda3/lib/python3.11/site-packages (from torch==2.0.0) (1.11.1)\n",
      "Requirement already satisfied: networkx in /Users/kulyashdahiya/anaconda3/lib/python3.11/site-packages (from torch==2.0.0) (3.1)\n",
      "Requirement already satisfied: jinja2 in /Users/kulyashdahiya/anaconda3/lib/python3.11/site-packages (from torch==2.0.0) (3.1.2)\n",
      "Requirement already satisfied: MarkupSafe>=2.0 in /Users/kulyashdahiya/anaconda3/lib/python3.11/site-packages (from jinja2->torch==2.0.0) (2.1.1)\n",
      "Requirement already satisfied: mpmath>=0.19 in /Users/kulyashdahiya/anaconda3/lib/python3.11/site-packages (from sympy->torch==2.0.0) (1.3.0)\n",
      "Downloading torch-2.0.0-cp311-none-macosx_11_0_arm64.whl (55.8 MB)\n",
      "\u001b[2K   \u001b[90m━━━━━━━━━━━━━━━━━━━━━━━━━━━━━━━━━━━━━━━━\u001b[0m \u001b[32m55.8/55.8 MB\u001b[0m \u001b[31m12.7 MB/s\u001b[0m eta \u001b[36m0:00:00\u001b[0m00:01\u001b[0m00:01\u001b[0m\n",
      "\u001b[?25hInstalling collected packages: torch, torchaudio\n",
      "  Attempting uninstall: torch\n",
      "    Found existing installation: torch 2.2.1\n",
      "    Uninstalling torch-2.2.1:\n",
      "      Successfully uninstalled torch-2.2.1\n",
      "  Attempting uninstall: torchaudio\n",
      "    Found existing installation: torchaudio 2.2.1\n",
      "    Uninstalling torchaudio-2.2.1:\n",
      "      Successfully uninstalled torchaudio-2.2.1\n",
      "Successfully installed torch-2.0.0 torchaudio-2.0.0\n",
      "Note: you may need to restart the kernel to use updated packages.\n"
     ]
    }
   ],
   "source": [
    "pip install torch==2.0.0 torchaudio==2.0.0 -f https://download.pytorch.org/whl/torch_stable.html"
   ]
  },
  {
   "cell_type": "code",
   "execution_count": 2,
   "id": "b52fa701",
   "metadata": {},
   "outputs": [
    {
     "name": "stdout",
     "output_type": "stream",
     "text": [
      "Collecting torchvision\n",
      "  Obtaining dependency information for torchvision from https://files.pythonhosted.org/packages/a8/95/affe174621ebc9b32544a918ae6cb758ac06061d0ee51d783e06906ceba1/torchvision-0.17.1-cp311-cp311-macosx_11_0_arm64.whl.metadata\n",
      "  Downloading torchvision-0.17.1-cp311-cp311-macosx_11_0_arm64.whl.metadata (6.6 kB)\n",
      "Requirement already satisfied: numpy in /Users/kulyashdahiya/anaconda3/lib/python3.11/site-packages (from torchvision) (1.24.3)\n",
      "Collecting torch==2.2.1 (from torchvision)\n",
      "  Obtaining dependency information for torch==2.2.1 from https://files.pythonhosted.org/packages/3e/b9/256ab23c859cbcd7d6fb7cb46417a07eac817881a0a68df8ea0c18f45221/torch-2.2.1-cp311-none-macosx_11_0_arm64.whl.metadata\n",
      "  Using cached torch-2.2.1-cp311-none-macosx_11_0_arm64.whl.metadata (25 kB)\n",
      "Requirement already satisfied: pillow!=8.3.*,>=5.3.0 in /Users/kulyashdahiya/anaconda3/lib/python3.11/site-packages (from torchvision) (9.4.0)\n",
      "Requirement already satisfied: filelock in /Users/kulyashdahiya/anaconda3/lib/python3.11/site-packages (from torch==2.2.1->torchvision) (3.9.0)\n",
      "Requirement already satisfied: typing-extensions>=4.8.0 in /Users/kulyashdahiya/anaconda3/lib/python3.11/site-packages (from torch==2.2.1->torchvision) (4.10.0)\n",
      "Requirement already satisfied: sympy in /Users/kulyashdahiya/anaconda3/lib/python3.11/site-packages (from torch==2.2.1->torchvision) (1.11.1)\n",
      "Requirement already satisfied: networkx in /Users/kulyashdahiya/anaconda3/lib/python3.11/site-packages (from torch==2.2.1->torchvision) (3.1)\n",
      "Requirement already satisfied: jinja2 in /Users/kulyashdahiya/anaconda3/lib/python3.11/site-packages (from torch==2.2.1->torchvision) (3.1.2)\n",
      "Requirement already satisfied: fsspec in /Users/kulyashdahiya/anaconda3/lib/python3.11/site-packages (from torch==2.2.1->torchvision) (2023.4.0)\n",
      "Requirement already satisfied: MarkupSafe>=2.0 in /Users/kulyashdahiya/anaconda3/lib/python3.11/site-packages (from jinja2->torch==2.2.1->torchvision) (2.1.1)\n",
      "Requirement already satisfied: mpmath>=0.19 in /Users/kulyashdahiya/anaconda3/lib/python3.11/site-packages (from sympy->torch==2.2.1->torchvision) (1.3.0)\n",
      "Downloading torchvision-0.17.1-cp311-cp311-macosx_11_0_arm64.whl (1.6 MB)\n",
      "\u001b[2K   \u001b[90m━━━━━━━━━━━━━━━━━━━━━━━━━━━━━━━━━━━━━━━━\u001b[0m \u001b[32m1.6/1.6 MB\u001b[0m \u001b[31m13.4 MB/s\u001b[0m eta \u001b[36m0:00:00\u001b[0m00:01\u001b[0m00:01\u001b[0m\n",
      "\u001b[?25hUsing cached torch-2.2.1-cp311-none-macosx_11_0_arm64.whl (59.7 MB)\n",
      "Installing collected packages: torch, torchvision\n",
      "  Attempting uninstall: torch\n",
      "    Found existing installation: torch 2.0.0\n",
      "    Uninstalling torch-2.0.0:\n",
      "      Successfully uninstalled torch-2.0.0\n",
      "\u001b[31mERROR: pip's dependency resolver does not currently take into account all the packages that are installed. This behaviour is the source of the following dependency conflicts.\n",
      "torchaudio 2.0.0 requires torch==2.0.0, but you have torch 2.2.1 which is incompatible.\u001b[0m\u001b[31m\n",
      "\u001b[0mSuccessfully installed torch-2.2.1 torchvision-0.17.1\n",
      "Note: you may need to restart the kernel to use updated packages.\n"
     ]
    }
   ],
   "source": [
    "pip install torchvision"
   ]
  },
  {
   "cell_type": "code",
   "execution_count": 3,
   "id": "5c82e2cc",
   "metadata": {},
   "outputs": [
    {
     "ename": "NameError",
     "evalue": "name 'torch' is not defined",
     "output_type": "error",
     "traceback": [
      "\u001b[0;31m---------------------------------------------------------------------------\u001b[0m",
      "\u001b[0;31mNameError\u001b[0m                                 Traceback (most recent call last)",
      "Cell \u001b[0;32mIn[3], line 1\u001b[0m\n\u001b[0;32m----> 1\u001b[0m \u001b[38;5;28;01mimport\u001b[39;00m \u001b[38;5;21;01mgc\u001b[39;00m; gc\u001b[38;5;241m.\u001b[39mcollect(); torch\u001b[38;5;241m.\u001b[39mcuda\u001b[38;5;241m.\u001b[39mempty_cache(); \u001b[38;5;28;01mdel\u001b[39;00m model\n",
      "\u001b[0;31mNameError\u001b[0m: name 'torch' is not defined"
     ]
    }
   ],
   "source": [
    "import gc; gc.collect(); torch.cuda.empty_cache(); del model"
   ]
  },
  {
   "cell_type": "code",
   "execution_count": 1,
   "id": "10a0aad8",
   "metadata": {},
   "outputs": [
    {
     "name": "stderr",
     "output_type": "stream",
     "text": [
      "torchvision is not available - cannot save figures\n"
     ]
    },
    {
     "data": {
      "application/vnd.jupyter.widget-view+json": {
       "model_id": "d74cb76f8ce04762bc408bbe88a4323a",
       "version_major": 2,
       "version_minor": 0
      },
      "text/plain": [
       "Downloading tokenizer.json:   0%|          | 0.00/2.20M [00:00<?, ?B/s]"
      ]
     },
     "metadata": {},
     "output_type": "display_data"
    },
    {
     "data": {
      "application/vnd.jupyter.widget-view+json": {
       "model_id": "caaeff7ea30c415d964d1b1cd7f80399",
       "version_major": 2,
       "version_minor": 0
      },
      "text/plain": [
       "Downloading config.json:   0%|          | 0.00/2.80k [00:00<?, ?B/s]"
      ]
     },
     "metadata": {},
     "output_type": "display_data"
    },
    {
     "data": {
      "application/vnd.jupyter.widget-view+json": {
       "model_id": "59ad7a33b39f4ca588adf3bc352db7e9",
       "version_major": 2,
       "version_minor": 0
      },
      "text/plain": [
       "Downloading vocabulary.txt:   0%|          | 0.00/460k [00:00<?, ?B/s]"
      ]
     },
     "metadata": {},
     "output_type": "display_data"
    },
    {
     "data": {
      "application/vnd.jupyter.widget-view+json": {
       "model_id": "4d1b786aea464485a5d776e027d2f340",
       "version_major": 2,
       "version_minor": 0
      },
      "text/plain": [
       "Downloading model.bin:   0%|          | 0.00/3.09G [00:00<?, ?B/s]"
      ]
     },
     "metadata": {},
     "output_type": "display_data"
    },
    {
     "ename": "ValueError",
     "evalue": "This CTranslate2 package was not compiled with CUDA support",
     "output_type": "error",
     "traceback": [
      "\u001b[0;31m---------------------------------------------------------------------------\u001b[0m",
      "\u001b[0;31mValueError\u001b[0m                                Traceback (most recent call last)",
      "Cell \u001b[0;32mIn[1], line 10\u001b[0m\n\u001b[1;32m      7\u001b[0m compute_type \u001b[38;5;241m=\u001b[39m \u001b[38;5;124m\"\u001b[39m\u001b[38;5;124mfloat16\u001b[39m\u001b[38;5;124m\"\u001b[39m \u001b[38;5;66;03m# change to \"int8\" if low on GPU mem (may reduce accuracy)\u001b[39;00m\n\u001b[1;32m      9\u001b[0m \u001b[38;5;66;03m# 1. Transcribe with original whisper (batched)\u001b[39;00m\n\u001b[0;32m---> 10\u001b[0m model \u001b[38;5;241m=\u001b[39m whisperx\u001b[38;5;241m.\u001b[39mload_model(\u001b[38;5;124m\"\u001b[39m\u001b[38;5;124mlarge-v2\u001b[39m\u001b[38;5;124m\"\u001b[39m, device, compute_type\u001b[38;5;241m=\u001b[39mcompute_type)\n",
      "File \u001b[0;32m~/anaconda3/lib/python3.11/site-packages/whisperx/asr.py:288\u001b[0m, in \u001b[0;36mload_model\u001b[0;34m(whisper_arch, device, device_index, compute_type, asr_options, language, vad_model, vad_options, model, task, download_root, threads)\u001b[0m\n\u001b[1;32m    285\u001b[0m \u001b[38;5;28;01mif\u001b[39;00m whisper_arch\u001b[38;5;241m.\u001b[39mendswith(\u001b[38;5;124m\"\u001b[39m\u001b[38;5;124m.en\u001b[39m\u001b[38;5;124m\"\u001b[39m):\n\u001b[1;32m    286\u001b[0m     language \u001b[38;5;241m=\u001b[39m \u001b[38;5;124m\"\u001b[39m\u001b[38;5;124men\u001b[39m\u001b[38;5;124m\"\u001b[39m\n\u001b[0;32m--> 288\u001b[0m model \u001b[38;5;241m=\u001b[39m model \u001b[38;5;129;01mor\u001b[39;00m WhisperModel(whisper_arch,\n\u001b[1;32m    289\u001b[0m                      device\u001b[38;5;241m=\u001b[39mdevice,\n\u001b[1;32m    290\u001b[0m                      device_index\u001b[38;5;241m=\u001b[39mdevice_index,\n\u001b[1;32m    291\u001b[0m                      compute_type\u001b[38;5;241m=\u001b[39mcompute_type,\n\u001b[1;32m    292\u001b[0m                      download_root\u001b[38;5;241m=\u001b[39mdownload_root,\n\u001b[1;32m    293\u001b[0m                      cpu_threads\u001b[38;5;241m=\u001b[39mthreads)\n\u001b[1;32m    294\u001b[0m \u001b[38;5;28;01mif\u001b[39;00m language \u001b[38;5;129;01mis\u001b[39;00m \u001b[38;5;129;01mnot\u001b[39;00m \u001b[38;5;28;01mNone\u001b[39;00m:\n\u001b[1;32m    295\u001b[0m     tokenizer \u001b[38;5;241m=\u001b[39m faster_whisper\u001b[38;5;241m.\u001b[39mtokenizer\u001b[38;5;241m.\u001b[39mTokenizer(model\u001b[38;5;241m.\u001b[39mhf_tokenizer, model\u001b[38;5;241m.\u001b[39mmodel\u001b[38;5;241m.\u001b[39mis_multilingual, task\u001b[38;5;241m=\u001b[39mtask, language\u001b[38;5;241m=\u001b[39mlanguage)\n",
      "File \u001b[0;32m~/anaconda3/lib/python3.11/site-packages/faster_whisper/transcribe.py:133\u001b[0m, in \u001b[0;36mWhisperModel.__init__\u001b[0;34m(self, model_size_or_path, device, device_index, compute_type, cpu_threads, num_workers, download_root, local_files_only)\u001b[0m\n\u001b[1;32m    126\u001b[0m \u001b[38;5;28;01melse\u001b[39;00m:\n\u001b[1;32m    127\u001b[0m     model_path \u001b[38;5;241m=\u001b[39m download_model(\n\u001b[1;32m    128\u001b[0m         model_size_or_path,\n\u001b[1;32m    129\u001b[0m         local_files_only\u001b[38;5;241m=\u001b[39mlocal_files_only,\n\u001b[1;32m    130\u001b[0m         cache_dir\u001b[38;5;241m=\u001b[39mdownload_root,\n\u001b[1;32m    131\u001b[0m     )\n\u001b[0;32m--> 133\u001b[0m \u001b[38;5;28mself\u001b[39m\u001b[38;5;241m.\u001b[39mmodel \u001b[38;5;241m=\u001b[39m ctranslate2\u001b[38;5;241m.\u001b[39mmodels\u001b[38;5;241m.\u001b[39mWhisper(\n\u001b[1;32m    134\u001b[0m     model_path,\n\u001b[1;32m    135\u001b[0m     device\u001b[38;5;241m=\u001b[39mdevice,\n\u001b[1;32m    136\u001b[0m     device_index\u001b[38;5;241m=\u001b[39mdevice_index,\n\u001b[1;32m    137\u001b[0m     compute_type\u001b[38;5;241m=\u001b[39mcompute_type,\n\u001b[1;32m    138\u001b[0m     intra_threads\u001b[38;5;241m=\u001b[39mcpu_threads,\n\u001b[1;32m    139\u001b[0m     inter_threads\u001b[38;5;241m=\u001b[39mnum_workers,\n\u001b[1;32m    140\u001b[0m )\n\u001b[1;32m    142\u001b[0m tokenizer_file \u001b[38;5;241m=\u001b[39m os\u001b[38;5;241m.\u001b[39mpath\u001b[38;5;241m.\u001b[39mjoin(model_path, \u001b[38;5;124m\"\u001b[39m\u001b[38;5;124mtokenizer.json\u001b[39m\u001b[38;5;124m\"\u001b[39m)\n\u001b[1;32m    143\u001b[0m \u001b[38;5;28;01mif\u001b[39;00m os\u001b[38;5;241m.\u001b[39mpath\u001b[38;5;241m.\u001b[39misfile(tokenizer_file):\n",
      "\u001b[0;31mValueError\u001b[0m: This CTranslate2 package was not compiled with CUDA support"
     ]
    }
   ],
   "source": [
    "import whisperx\n",
    "import gc \n",
    "\n",
    "device = \"cuda\" \n",
    "audio_file = \"trimmed_audio.mp3\"\n",
    "batch_size = 4 # reduce if low on GPU mem\n",
    "compute_type = \"int8\" #\"float16\" # change to \"int8\" if low on GPU mem (may reduce accuracy)\n",
    "\n",
    "# 1. Transcribe with original whisper (batched)\n",
    "model = whisperx.load_model(\"large-v2\", device, compute_type=compute_type)"
   ]
  },
  {
   "cell_type": "code",
   "execution_count": null,
   "id": "0e345cbb",
   "metadata": {},
   "outputs": [],
   "source": [
    "# !sudo apt update && sudo apt install ffmpeg\n",
    "\n",
    "# pip install -U openai-whisper\n",
    "# pip install setuptools-rust\n",
    "# pip install pydub"
   ]
  },
  {
   "cell_type": "code",
   "execution_count": 9,
   "id": "32249674",
   "metadata": {},
   "outputs": [
    {
     "name": "stdout",
     "output_type": "stream",
     "text": [
      "Current Directory: /Users/kulyashdahiya/Beginning/AI/AudioTranscript\n",
      "File Path: /Users/kulyashdahiya/Beginning/AI/AudioTranscript/audio.mp3\n"
     ]
    }
   ],
   "source": [
    "# !sudo apt update && sudo apt install ffmpeg\n",
    "\n",
    "# pip install -U openai-whisper\n",
    "# pip install setuptools-rust\n",
    "# pip install pydub\n",
    "\n",
    "import os\n",
    "import whisper\n",
    "\n",
    "current_directory = os.getcwd()\n",
    "print(\"Current Directory:\", current_directory)\n",
    "\n",
    "input_file_name = \"audio.mp3\"\n",
    "file_path = os.path.join(current_directory, input_file_name)\n",
    "print(\"File Path:\", file_path)\n",
    "model = whisper.load_model(\"large\")"
   ]
  },
  {
   "cell_type": "code",
   "execution_count": 10,
   "id": "10120d67",
   "metadata": {},
   "outputs": [
    {
     "name": "stdout",
     "output_type": "stream",
     "text": [
      " Idli Sambar. From where did you eat? Today, I went to the market. Market? Was there any work? There was some work. They are getting rash wearing this woolen clothes. Because they are sleeping like this even at night. We don't have such a habit. I wear cotton clothes. I understand. Here, you are wearing woolen clothes. So, it was very much like allergy in skin. So, I went to see some cotton. I got something. Did you get anything? I didn't get that. I was looking for cotton t-shirt of full sleeves. I didn't get that. But, I got a top type. So, I thought let's work with this. That's it. Where are you going to stay? Kashipur. Kashipur. How far is it from here? From here, it takes 4-5 hours from public transport. But, it takes 3-4-5 hours from our vehicle. Will you drink water? I will drink a little. Yes, drink it slowly. When did you come from the market? I came from the market. I was sitting down. I had ordered medicine. They didn't give it. I had sent the one who brings along. I had to arrange that. When did you come from the market? I am coming from the market. He was telling that he is coming. No problem. Are you ready now? Yes. Are you free? Yes. Okay. Okay. Okay. So, I will ask the same question from you. Yes. Yes. Yes. So, what is your English, Hindi, and in which language do you speak? Ask me anything in Hindi. I will be more comfortable in telling. If you tell, then do you speak in Hindi only? Yes, it is okay. Okay. You relax and say what you think. Yes, I am relaxing. Tell me what you think. Don't think about all the good and bad. Tell me what is in your mind. Tell me the real thing. That's it. That's it. Okay. Okay. Thank you. Bye. Yes, I will tell you the real thing. My first question is that do you have any concern about the patient? Do I have any concern? Yes. The first thing is that what is his survival, whether he will survive or not, in what condition, that is the thing. Because he has an old disease also, we know that too, the problem was still there. But now how can we, I mean, now even the stability is not coming. Yes. So, after that how much time we will be able to do, what will happen here also, nothing is clear here also. I mean, in how much time, at least the stability is coming, it is almost a month going on, that is also not happening. So, what can we say about the rest? This disease, you told me yesterday, then I would like to ask again. Yes. Since when he has this disease? Since 2017, he had symptoms, but he was diagnosed. What were the symptoms? The symptoms were that he had difficulty in walking, his feet, when he used to get up after resting, then it took time for him to get to the working condition. Okay, to do movement. It took time for movement, like before he used to push his feet, then when he used to walk, it became normal. Okay. Slowly this problem occurred. Yes, then what happened later, he felt weakness in his hands also. In one side or both? No, he had this problem in one side first. In one side, first in one foot and then in one hand. Yes, then slowly he had problem in two other feet also, it was more in the feet. And for how many days he was in notice that this problem is happening, or you were in notice? I was in notice, I felt since May, April, May that he has problem. Yes, he has problem, but when others also, he himself did not feel, but in July, everyone stopped him, why are you doing like this, then we started showing him from August. In 2017? Yes. Okay. In August, then we took him to Meerut in September, in Meerut, he said that you go to PEMS. Okay. So, from there, he started from September, then he kept getting tested, in February, 18, he was finally diagnosed. He was diagnosed. He was diagnosed with this disease. Okay. So, from where was his treatment going? From PEMS, initially, he gave Idaraone injections, which is a six month course. Okay. So, he said that if there is no... From this PEMS or from Delhi? Delhi. Okay, okay. Delhi PEMS. That if there is any difference from this, then it is fine, otherwise, the disease, there is no treatment for it. Yes. He told me this. Yes. So, then finally, he started going slowly, that this is it, you have done physiotherapy, etc. Yes. And then, I mean, if you take a healthy diet, then we took care of that thing a little bit, so that's why we got this long of a life. Yes. Otherwise, there is no such disease that it can be... It can be so long. Yes. Okay. So, this is it. Okay. So, my next question is from you, when you brought the patient in emergency, then to transfer him here in emergency, what did you do? Yes. Yes. Yes. Yes. So, what were the things that you had to face in the emergency? In the emergency, it happened that the next day, he had said that, firstly, his old disease, that he has such and such, so he said that, but he had said that, he needs ICU, but we do not give ICU to such patients, because we do not know that he is uncertain, how many days we have to keep him. Yes. So, we prefer such places, where there are heart attacks or heart patients, who we can shift from there in 2-4 hours. Okay. So, he had clearly told us that you can take him anywhere, so take him. Yes. But because we are not from such a big city, we do not get such facilities there, we did not respond in any way, I said, let's see what happens now. Yes. Then, after 3 days, he shifted here. Okay. So, why did not you take him to Ames, Delhi? Yes. Because, in Ames, Delhi, there is the same problem, which is here, that is, to get a bed, and it is more than that. Okay. Because, we went in the beginning, so there is more rush. Okay. How far is he from your house? He is also far, he takes more than 5-6 hours. Okay. Yes. He is more than here. Okay. So, after 3-4 days, he himself has told that he is in bed. Yes. That we are shifting him to the ICU, that means, you will have to keep the patient, and at least 20 days, he will be in bed. Yes. It may take more. Yes. But, I said, there is no alternative. Yes. Your words are correct. Okay. Then, my next question is that, please tell us about the care of the patient and the experience you have given in the relationship of the information given about any procedure. Care? Yes. That is, here. The one who is taking care of him here, or whatever procedure he is doing, whatever he is doing, okay, regarding your patient, that is, he is taking care of him here, and he is taking care of him here. Yes. So, he is taking care of him here, okay, regarding your patient. No, I am not satisfied with it, or anything like that. Okay. Okay, whatever he is doing according to himself, he is doing it right. Okay, this question, I am asking you again in English, for you it will be easy. Kindly share your experience regarding information provided about your patient care and any procedure. No, care, he does, he shares the information as well, it is not like that, whenever he has to do, he does it. He tells us that he wants to do this, or he wants to do that. This is your condition, he is telling us that. Okay. Okay. Then, my next question is, please tell us about your experience regarding your stay, sleep, food, and personal hygiene facilities in the hospital. It is more difficult here. Tell us, one by one, what is there to stay? To stay, one is to stay, at least one is to stay, because he has to take medicines all day. Yes. Because he has to take medicines all day. Yes. He has to take medicines all day. So, there is no arrangement from the hospital. Okay. So, we have to manage it ourselves. That too, it will happen, it is okay, but the biggest problem is that you are staying here for 24 hours. Yes. So, at least the toilet and all should be clean, that is, it should be clean and its management should be good. Even if you pay for it. Okay. Because, we are taking effort, we have kept the room, but not everyone can afford it. Okay. That you take it in one room and then go there. Yes. So, there should be a little of this thing. Here, some such rooms should be allotted, they should be paid, that thing is good. But it should be this much, because those who are coming from far away, there will be a problem for them. Yes. And for food? Now, I have not taken care of food, that is, whoever is coming here, he does not have to do this, he just has to get a stomach. So, the food was eaten by the man, somehow. Then how is the food of the canteen, how should the facility be, you eat outside or where? We like to eat light food, canteen is also fine, chili, spices, etc., that thing is fine, food is fine, but the rotis, neither the outside is good, nor the canteen is good. Both are bad, we do not eat this kind of food. That thing is very problematic, because the rotis of the canteen are left open for 5 minutes, so they do not get chewed. And outside also, I do not know which flour they use, it is pulled. Okay. So, that thing is problematic, but it is okay, it is managed. Okay. So, as your patients are admitted in ICU now, so what is the effect of staying at their home, on the responsibilities of your family, do you know about their experience? See, this is the situation in our family since 6 years, so the responsibilities of the family are on me, all that, now my children are also a little older, so the main problem is with my daughter, she is going to study, so she has some loss. Okay. So, the things of the family are not that much, I also have that I am in a job, now it will be managed for 8-10 days, till my leave is over, but then I will also have to see that thing. How old is your son? He is 18 plus, now he is doing B.Tech. Son? Son, yes, my son is 26 years old, he is doing a job. Where? He is in the bank, P.O. In your village, is he in the hometown? He is in Pant Nagar. Okay, okay. So, you keep going there? No, he was also here, now the holidays have started, so the holidays are the problem of the jobless, he was saying that I have refused, I said that I am on leave till 15, then we will manage it later, if we see, then we will have to make a circle that who will stay here. Is your daughter with you here? No, she is also here, because now she has mid-term, no, no, the final exams have been done since 25th January. Okay. So, now she has to be sent for practical, so I have to send her, so her studies are more disturbing. So, where is her college, near the house? She is also doing B.Tech from Pant Nagar. So, there must be something in the hostel, right? She lives in the hostel. So, now there are vacations or what? Now, when there was such a condition here, she had come on leave. Okay. Then in the meantime, I got her from here in mid-term, in the same way, I mean, my parents live here, I sent her to them, so she got married. Okay. If there is any problem, then there is a little bit of it. Who is your family member? My father-in-law is in the house. Your father-in-law is also at home? He is also here. Okay, I saw that he is also with you, wearing the glasses. Yes, he also lives in the village, he has a little farm, there is a village nearby. Okay. So, he sometimes lives there, and then my brother-in-law also comes, he also comes here, mostly he lives with us. Okay. Okay. So, then my brother-in-law is also here. Okay. Next question from you is that what is your opinion about the doctors and nurses who take care of the patients? Doctors and nurses are fine, they are doing their work properly. Are you satisfied? Yes, I am satisfied. Then you want to tell something else about them, anything? It just takes a little time, like they have kept two slots of time to meet the patient, one is from morning 6 to 7, one is from evening 4 to 5. Yes. Now, what happens is that we are waiting all night to meet the patient, or what? From there, the information comes that your patient is being cleaned, this is happening, so today also the same thing happened. But this is happening all the time in this whole week, that they never know what is happening in the day or night, we can't even know what is going on. At the same time, all the work is done that it is not like this, it is changing, this is happening, that is happening. Then these security people, now today they said that at 7-10 minutes, my daughter's first attendant went inside. Now, after that, whatever time he must have taken, hair has come, that after some time, I said, I saw, that no, the time is over, now the doctor has visited, now you cannot go. Okay, they are not letting you meet in the morning? Yes, in the morning, they let one person go, they don't let anyone go in the morning. In the evening? They let you go in the evening, whatever, I go, daughter and father-in-law, they don't let me go now. And in the meantime, they say like this. In the meantime, like the physio people say that exercise is done, as many times as you do. Yes. As many times as you do. Yes. The doctor asked at 12 o'clock, then he said, no, I am not doing it. I don't know. Now I am staying in the hospital. Okay. So, my next question is from you, that because of being in the ICU of your patient, what is affecting you and your family's financial health? Financial? Financial, madam, is that now she is on medical, salary is stopped in medical. Yes. Now expenses, salary is stopped, so, it doesn't happen that much, but then also, somewhere or the other, it happens a little. What is your husband's job? Workshop instructor. Okay, so, his medical is going on now. His medical is going on. Now because of him, I also had taken medical. So, then I also, means that, okay, I will be managed, but now I have to send my son also, now there is a job, so I have to go. Okay, right. Now the same is, expenses are increased, salary is stopped, then how will I manage? Right. Okay, apart from this, do you want to say anything else, like your personal issues or about the hospital? No, I have no issues regarding the hospital, nor do I have any confusion. And I also know that whatever we are getting, it is the best for us, because the city from which we belong, we cannot manage these things. So, there is no problem there. Now it is okay, now our condition is also such that we cannot think anything, we are already in minus. So, I personally, I have no problem. Okay. Okay, as long as it is okay, otherwise, what can I do? Okay. Now, will you send the daughter to the hostel? Now, I have to send her, because she has 7, 8, means, 8, 9, 10, she has practice. Okay. So, I have to send her, if in between, if we see the condition, if she feels that she has to be called here, then I will call her, otherwise, then there is her exam. She will not agree, she will definitely come in between. But here, if you want to go, then you have to go, but if you want to go, then you have to go, but if you want to go, then you have to go. Okay. Okay, okay. Okay. Okay. Okay, okay. Okay, okay. Okay. But even here, she cannot study, right, here, even at night, there is a lot of disturbance. Because even though there is no work, but still disturbance is still there. Sometimes, someone is coming, the patient is coming, sometimes someone is coming, if someone has children with them, then, and she is screaming all day long, so she will not be able to do anything. Okay. Okay. So, I have to send her, if she has some condition, then I will send her, if she has to go, then I will call her, otherwise, then there is her exam. Okay. Okay. Okay. Okay. Okay. Yes, okay. Okay. Okay. Okay. Okay. Okay. Okay. Okay. Okay. Okay. Okay. Okay. Okay. Okay. Okay. Yesterday, there was a lot of noise here, so she couldn't do anything. So, financially, you are doing the job easily, but it is not that much of a difference. Yes, it is not that much. If you take leave, then you don't get salary. Yes, if you don't get salary, then it is a problem. Now, this is what happens, if their salary is also going on regularly, then their expenses due to their disease are very high, they are our. Because, because of them, I had kept two drivers, who used to look after them. One used to go to college for basic care, and the driver was needed, because how can we manage, if someone has taken leave for a day, then only one phone will come, that I am not coming today. But for us, the whole schedule gets messed up. Because, their leave means that a person is needed at home, then I have to take leave, now I too, in the condition of school, it was known that no one else had given, so that means, that schedule is very big. It becomes difficult, plus physiotherapy comes daily. Okay, they give daily. Yes, they give daily, so that was spent, plus there is medicine, diet, in those things, so their salary is almost spent on them. Yes, it is completely medical. Yes, it is completely that thing. And now, until the son's job was not taken, there was a little more problem, that he was also studying, giving competition, now his job is taken in May only. Okay. Then, the daughter also has to be taken. Yes, she is studying, so the expenses are there when the children are out. This is right. Yes, and then, once the whole house is like this, it is very easy to increase the expenses, but it is very difficult to reduce them. Yes. Now, there are problems. It is right. Apart from that, what is your response from the doctor here? Doctor tells me, from time to time, whatever things happen, he tells me, that this is happening, this can happen with your patient. Yes. Now, because, that unknown person, he can be a little disturbed, but we are already, because we are already facing it, so that is why, I don't feel much like this. Yes. So, it means that, he has got used to it, now, say this. Yes, it can be. Yes, we know that our disease is such that there is no treatment for it, so we don't have much expectation either. Yes. It was just that, in the condition he was in, now, our priority seems to be that, whatever we brought, at least, it should come in that. Yes. That's it. Rest, we were managing, as we were doing. Yes. So, if he comes in that stage also, then we will do as it is. Rest, we don't want that, yes, it cannot happen, or else, it cannot happen. That is it. And, regarding nurses, your opinion, their care or their behavior, their response? No, the behavior is fine, the nurses are doing it well. Yes. So, you are saying that, your husband is satisfied with it? Yes, he is satisfied, ma'am, because we don't see much, but, the way we see, it seems fine to us. Yes. Yes. Okay, and, would you like to tell some more experiences? Yes, that's it. Which, if you feel that, I haven't asked you, and you want to tell something separately from your mind. No, it's fine, I feel fine here, we don't have any such problem, and we don't feel any difference from our personal problem. We are not that much, that is, we don't have much expectation, just that, this time limit, we are getting to know that, yes, we can reschedule ourselves a little, that we should do this arrangement for the future, because our life goes on like this, without planning, we are not able to do anything. And, that thing, here, uncertainty is increasing a lot, this is the problem, a little bit, because we don't know what to do. Yes, yes. Now, that too, we can't do anything about it, because it depends on the condition. So, that too, no one can tell us like this, that, will it happen like this, or how will it happen, when will it happen, or how many days it will happen, so, that thing, we can't blame anyone for that. This is the problem, isn't it? Okay. Is everything else fine? Yes, it's done. Yes, it's done. Yes, it's done. Yes, it's done. Yes, it's done. If there is something else, then if you want to tell anything from your mind, then… No, I don't have such a problem. I mean, I don't have any problem. No, no, no. Okay. Okay.\n"
     ]
    }
   ],
   "source": [
    "result = model.transcribe(file_path, language=\"Hindi\", task=\"translate\")\n",
    "print(result[\"text\"])"
   ]
  },
  {
   "cell_type": "code",
   "execution_count": 11,
   "id": "d2089816",
   "metadata": {},
   "outputs": [],
   "source": [
    "translated_text = result[\"text\"]\n",
    "\n",
    "output_file_name = \"output.txt\"\n",
    "output_file_path = os.path.join(current_directory, output_file_name)\n",
    "with open(output_file_path, \"w\") as output_file:\n",
    "    sentences = translated_text.split(\".\")\n",
    "    for sentence in sentences:\n",
    "        output_file.write(sentence.strip() + \".\\n\")"
   ]
  }
 ],
 "metadata": {
  "kernelspec": {
   "display_name": "Python 3 (ipykernel)",
   "language": "python",
   "name": "python3"
  },
  "language_info": {
   "codemirror_mode": {
    "name": "ipython",
    "version": 3
   },
   "file_extension": ".py",
   "mimetype": "text/x-python",
   "name": "python",
   "nbconvert_exporter": "python",
   "pygments_lexer": "ipython3",
   "version": "3.11.5"
  }
 },
 "nbformat": 4,
 "nbformat_minor": 5
}
