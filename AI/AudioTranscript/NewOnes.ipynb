{
 "cells": [
  {
   "cell_type": "code",
   "execution_count": null,
   "id": "a02f7867-fbc2-488c-8546-72826ef4700b",
   "metadata": {},
   "outputs": [],
   "source": [
    "#Bheem JI"
   ]
  },
  {
   "cell_type": "code",
   "execution_count": 1,
   "id": "1daf93bf-c5bd-4fd6-928d-6e32bea00116",
   "metadata": {
    "tags": []
   },
   "outputs": [
    {
     "name": "stdout",
     "output_type": "stream",
     "text": [
      "/Users/kulyashdahiya/anaconda3/lib/python3.11/site-packages/whisper/transcribe.py:126: UserWarning: FP16 is not supported on CPU; using FP32 instead\n",
      "  warnings.warn(\"FP16 is not supported on CPU; using FP32 instead\")\n",
      "[00:00.000 --> 00:02.000]  Hello friends,\n",
      "[00:02.000 --> 00:04.000]  How are you?\n",
      "[00:04.000 --> 00:06.000]  I am fine.\n",
      "[00:06.000 --> 00:08.000]  Did you get any information today?\n",
      "[00:08.000 --> 00:10.000]  No, I didn't get any information today.\n",
      "[00:10.000 --> 00:12.000]  You didn't get any information today?\n",
      "[00:12.000 --> 00:14.000]  Yes, I went for dialysis at 5 in the morning.\n",
      "[00:14.000 --> 00:16.000]  Okay.\n",
      "[00:16.000 --> 00:18.000]  After that, I couldn't go.\n",
      "[00:18.000 --> 00:20.000]  Then, you will get 4-5 times.\n",
      "[00:20.000 --> 00:22.000]  Yes, I will get 4-5 times.\n",
      "[00:22.000 --> 00:24.000]  Okay, I will ask you some questions.\n",
      "[00:24.000 --> 00:26.000]  Okay.\n",
      "[00:26.000 --> 00:28.000]  My first question is,\n",
      "^C\n",
      "Traceback (most recent call last):\n",
      "  File \"/Users/kulyashdahiya/anaconda3/bin/whisper\", line 8, in <module>\n",
      "    sys.exit(cli())\n",
      "             ^^^^^\n",
      "  File \"/Users/kulyashdahiya/anaconda3/lib/python3.11/site-packages/whisper/transcribe.py\", line 597, in cli\n",
      "    result = transcribe(model, audio_path, temperature=temperature, **args)\n",
      "             ^^^^^^^^^^^^^^^^^^^^^^^^^^^^^^^^^^^^^^^^^^^^^^^^^^^^^^^^^^^^^^\n",
      "  File \"/Users/kulyashdahiya/anaconda3/lib/python3.11/site-packages/whisper/transcribe.py\", line 279, in transcribe\n",
      "    result: DecodingResult = decode_with_fallback(mel_segment)\n",
      "                             ^^^^^^^^^^^^^^^^^^^^^^^^^^^^^^^^^\n",
      "  File \"/Users/kulyashdahiya/anaconda3/lib/python3.11/site-packages/whisper/transcribe.py\", line 195, in decode_with_fallback\n",
      "    decode_result = model.decode(segment, options)\n",
      "                    ^^^^^^^^^^^^^^^^^^^^^^^^^^^^^^\n",
      "  File \"/Users/kulyashdahiya/anaconda3/lib/python3.11/site-packages/torch/utils/_contextlib.py\", line 115, in decorate_context\n",
      "    return func(*args, **kwargs)\n",
      "           ^^^^^^^^^^^^^^^^^^^^^\n",
      "  File \"/Users/kulyashdahiya/anaconda3/lib/python3.11/site-packages/whisper/decoding.py\", line 824, in decode\n",
      "    result = DecodingTask(model, options).run(mel)\n",
      "             ^^^^^^^^^^^^^^^^^^^^^^^^^^^^^^^^^^^^^\n",
      "  File \"/Users/kulyashdahiya/anaconda3/lib/python3.11/site-packages/torch/utils/_contextlib.py\", line 115, in decorate_context\n",
      "    return func(*args, **kwargs)\n",
      "           ^^^^^^^^^^^^^^^^^^^^^\n",
      "  File \"/Users/kulyashdahiya/anaconda3/lib/python3.11/site-packages/whisper/decoding.py\", line 737, in run\n",
      "    tokens, sum_logprobs, no_speech_probs = self._main_loop(audio_features, tokens)\n",
      "                                            ^^^^^^^^^^^^^^^^^^^^^^^^^^^^^^^^^^^^^^^\n",
      "  File \"/Users/kulyashdahiya/anaconda3/lib/python3.11/site-packages/whisper/decoding.py\", line 687, in _main_loop\n",
      "    logits = self.inference.logits(tokens, audio_features)\n",
      "             ^^^^^^^^^^^^^^^^^^^^^^^^^^^^^^^^^^^^^^^^^^^^^\n",
      "  File \"/Users/kulyashdahiya/anaconda3/lib/python3.11/site-packages/whisper/decoding.py\", line 163, in logits\n",
      "    return self.model.decoder(tokens, audio_features, kv_cache=self.kv_cache)\n",
      "           ^^^^^^^^^^^^^^^^^^^^^^^^^^^^^^^^^^^^^^^^^^^^^^^^^^^^^^^^^^^^^^^^^^\n",
      "  File \"/Users/kulyashdahiya/anaconda3/lib/python3.11/site-packages/torch/nn/modules/module.py\", line 1511, in _wrapped_call_impl\n",
      "    return self._call_impl(*args, **kwargs)\n",
      "           ^^^^^^^^^^^^^^^^^^^^^^^^^^^^^^^^\n",
      "  File \"/Users/kulyashdahiya/anaconda3/lib/python3.11/site-packages/torch/nn/modules/module.py\", line 1520, in _call_impl\n",
      "    return forward_call(*args, **kwargs)\n",
      "           ^^^^^^^^^^^^^^^^^^^^^^^^^^^^^\n",
      "  File \"/Users/kulyashdahiya/anaconda3/lib/python3.11/site-packages/whisper/model.py\", line 211, in forward\n",
      "    x = block(x, xa, mask=self.mask, kv_cache=kv_cache)\n",
      "        ^^^^^^^^^^^^^^^^^^^^^^^^^^^^^^^^^^^^^^^^^^^^^^^\n",
      "  File \"/Users/kulyashdahiya/anaconda3/lib/python3.11/site-packages/torch/nn/modules/module.py\", line 1511, in _wrapped_call_impl\n",
      "    return self._call_impl(*args, **kwargs)\n",
      "           ^^^^^^^^^^^^^^^^^^^^^^^^^^^^^^^^\n",
      "  File \"/Users/kulyashdahiya/anaconda3/lib/python3.11/site-packages/torch/nn/modules/module.py\", line 1520, in _call_impl\n",
      "    return forward_call(*args, **kwargs)\n",
      "           ^^^^^^^^^^^^^^^^^^^^^^^^^^^^^\n",
      "  File \"/Users/kulyashdahiya/anaconda3/lib/python3.11/site-packages/whisper/model.py\", line 138, in forward\n",
      "    x = x + self.cross_attn(self.cross_attn_ln(x), xa, kv_cache=kv_cache)[0]\n",
      "            ^^^^^^^^^^^^^^^^^^^^^^^^^^^^^^^^^^^^^^^^^^^^^^^^^^^^^^^^^^^^^\n",
      "  File \"/Users/kulyashdahiya/anaconda3/lib/python3.11/site-packages/torch/nn/modules/module.py\", line 1511, in _wrapped_call_impl\n",
      "    return self._call_impl(*args, **kwargs)\n",
      "           ^^^^^^^^^^^^^^^^^^^^^^^^^^^^^^^^\n",
      "  File \"/Users/kulyashdahiya/anaconda3/lib/python3.11/site-packages/torch/nn/modules/module.py\", line 1520, in _call_impl\n",
      "    return forward_call(*args, **kwargs)\n",
      "           ^^^^^^^^^^^^^^^^^^^^^^^^^^^^^\n",
      "  File \"/Users/kulyashdahiya/anaconda3/lib/python3.11/site-packages/whisper/model.py\", line 90, in forward\n",
      "    wv, qk = self.qkv_attention(q, k, v, mask)\n",
      "             ^^^^^^^^^^^^^^^^^^^^^^^^^^^^^^^^^\n",
      "  File \"/Users/kulyashdahiya/anaconda3/lib/python3.11/site-packages/whisper/model.py\", line 105, in qkv_attention\n",
      "    qk = qk.float()\n",
      "         ^^^^^^^^^^\n",
      "KeyboardInterrupt\n"
     ]
    }
   ],
   "source": [
    "!whisper audio2.mp3 --language Hindi --model large --task translate"
   ]
  }
 ],
 "metadata": {
  "kernelspec": {
   "display_name": "Python 3 (ipykernel)",
   "language": "python",
   "name": "python3"
  },
  "language_info": {
   "codemirror_mode": {
    "name": "ipython",
    "version": 3
   },
   "file_extension": ".py",
   "mimetype": "text/x-python",
   "name": "python",
   "nbconvert_exporter": "python",
   "pygments_lexer": "ipython3",
   "version": "3.11.5"
  }
 },
 "nbformat": 4,
 "nbformat_minor": 5
}
