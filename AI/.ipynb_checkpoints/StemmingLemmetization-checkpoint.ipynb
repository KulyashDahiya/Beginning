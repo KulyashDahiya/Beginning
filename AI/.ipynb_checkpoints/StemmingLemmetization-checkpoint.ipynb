{
 "cells": [
  {
   "cell_type": "code",
   "execution_count": 7,
   "id": "daaf4bc7-aa08-41a0-a977-2159e0e4c5ec",
   "metadata": {},
   "outputs": [],
   "source": [
    "import nltk\n",
    "import spacy"
   ]
  },
  {
   "cell_type": "code",
   "execution_count": 8,
   "id": "6c54464a-adeb-4d00-946f-70eb8921a5a8",
   "metadata": {},
   "outputs": [],
   "source": [
    "from nltk.stem import PorterStemmer, SnowballStemmer"
   ]
  },
  {
   "cell_type": "code",
   "execution_count": 9,
   "id": "6c970381-cb3b-42a3-9dc0-76a74db40a7b",
   "metadata": {},
   "outputs": [],
   "source": [
    "stemmer = PorterStemmer()"
   ]
  },
  {
   "cell_type": "code",
   "execution_count": 10,
   "id": "1ef8d06f-35a0-4347-98e9-1c8816eec2f3",
   "metadata": {},
   "outputs": [
    {
     "name": "stdout",
     "output_type": "stream",
     "text": [
      "eating | eat\n",
      "eats | eat\n",
      "ate | ate\n",
      "adjustable | adjust\n",
      "ability | abil\n"
     ]
    }
   ],
   "source": [
    "words = [\"eating\", \"eats\", \"ate\", \"adjustable\", \"ability\"]\n",
    "\n",
    "for word in words:\n",
    "    print(f\"{word} | {stemmer.stem(word)}\" )"
   ]
  },
  {
   "cell_type": "code",
   "execution_count": 12,
   "id": "ce2b6395-e59c-4087-aa53-d56cca80476c",
   "metadata": {},
   "outputs": [],
   "source": [
    "nlp = spacy.load('en_core_web_md')"
   ]
  },
  {
   "cell_type": "code",
   "execution_count": 14,
   "id": "a21604fa-f187-4b50-ab73-ed496ee27589",
   "metadata": {},
   "outputs": [],
   "source": [
    "doc = nlp(\"eating eats adjustable ate ability running rafting better\")"
   ]
  },
  {
   "cell_type": "code",
   "execution_count": 15,
   "id": "084923ce-ff54-48a4-8b47-498b223088d9",
   "metadata": {},
   "outputs": [
    {
     "name": "stdout",
     "output_type": "stream",
     "text": [
      "eating | eating\n",
      "eats | eat\n",
      "adjustable | adjustable\n",
      "ate | ate\n",
      "ability | ability\n",
      "running | run\n",
      "rafting | raft\n",
      "better | well\n"
     ]
    }
   ],
   "source": [
    "for token in doc:\n",
    "    print(token, '|', token.lemma_)"
   ]
  },
  {
   "cell_type": "code",
   "execution_count": null,
   "id": "9ef8c626-96d8-4332-8d2b-f39b851ac45b",
   "metadata": {},
   "outputs": [],
   "source": []
  },
  {
   "cell_type": "code",
   "execution_count": null,
   "id": "42e8bac4-3eeb-4200-91d6-2dfcc8392b43",
   "metadata": {},
   "outputs": [],
   "source": []
  },
  {
   "cell_type": "code",
   "execution_count": null,
   "id": "37de3278-f1ef-4784-9fc8-fa6209c9fe34",
   "metadata": {},
   "outputs": [],
   "source": []
  },
  {
   "cell_type": "code",
   "execution_count": null,
   "id": "c4e4f9f2-0f22-465c-a1a4-751d322b74d7",
   "metadata": {},
   "outputs": [],
   "source": []
  },
  {
   "cell_type": "code",
   "execution_count": null,
   "id": "54c069d4-1aff-4320-9fb0-67a4c49ba9e2",
   "metadata": {},
   "outputs": [],
   "source": []
  },
  {
   "cell_type": "code",
   "execution_count": null,
   "id": "13dc631e-5c60-41ff-abe7-1d61c14b63b3",
   "metadata": {},
   "outputs": [],
   "source": []
  },
  {
   "cell_type": "code",
   "execution_count": null,
   "id": "2a017c43-d030-463c-9d2b-54a1b0bca7f3",
   "metadata": {},
   "outputs": [],
   "source": []
  },
  {
   "cell_type": "code",
   "execution_count": null,
   "id": "d38ae194-d96a-449e-9156-723a7b80c2eb",
   "metadata": {},
   "outputs": [],
   "source": []
  }
 ],
 "metadata": {
  "kernelspec": {
   "display_name": "Jupyter",
   "language": "python",
   "name": "myenv"
  },
  "language_info": {
   "codemirror_mode": {
    "name": "ipython",
    "version": 3
   },
   "file_extension": ".py",
   "mimetype": "text/x-python",
   "name": "python",
   "nbconvert_exporter": "python",
   "pygments_lexer": "ipython3",
   "version": "3.11.7"
  }
 },
 "nbformat": 4,
 "nbformat_minor": 5
}
